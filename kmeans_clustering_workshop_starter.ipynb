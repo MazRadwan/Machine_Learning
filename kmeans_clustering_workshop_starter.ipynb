{
  "nbformat": 4,
  "nbformat_minor": 0,
  "metadata": {
    "colab": {
      "provenance": [],
      "collapsed_sections": [
        "O4jGDE5wE_wc"
      ],
      "include_colab_link": true
    },
    "kernelspec": {
      "name": "python3",
      "display_name": "Python 3"
    },
    "widgets": {
      "application/vnd.jupyter.widget-state+json": {
        "92148a215fc1492388562abe5271271d": {
          "model_module": "@jupyter-widgets/controls",
          "model_name": "ButtonModel",
          "model_module_version": "1.5.0",
          "state": {
            "_dom_classes": [],
            "_model_module": "@jupyter-widgets/controls",
            "_model_module_version": "1.5.0",
            "_model_name": "ButtonModel",
            "_view_count": null,
            "_view_module": "@jupyter-widgets/controls",
            "_view_module_version": "1.5.0",
            "_view_name": "ButtonView",
            "button_style": "",
            "description": "Next",
            "disabled": false,
            "icon": "",
            "layout": "IPY_MODEL_99be67f47105438e924afc224bd89dab",
            "style": "IPY_MODEL_1cd54a403f684d8585928556a92dc7d4",
            "tooltip": ""
          }
        },
        "99be67f47105438e924afc224bd89dab": {
          "model_module": "@jupyter-widgets/base",
          "model_name": "LayoutModel",
          "model_module_version": "1.2.0",
          "state": {
            "_model_module": "@jupyter-widgets/base",
            "_model_module_version": "1.2.0",
            "_model_name": "LayoutModel",
            "_view_count": null,
            "_view_module": "@jupyter-widgets/base",
            "_view_module_version": "1.2.0",
            "_view_name": "LayoutView",
            "align_content": null,
            "align_items": null,
            "align_self": null,
            "border": null,
            "bottom": null,
            "display": null,
            "flex": null,
            "flex_flow": null,
            "grid_area": null,
            "grid_auto_columns": null,
            "grid_auto_flow": null,
            "grid_auto_rows": null,
            "grid_column": null,
            "grid_gap": null,
            "grid_row": null,
            "grid_template_areas": null,
            "grid_template_columns": null,
            "grid_template_rows": null,
            "height": null,
            "justify_content": null,
            "justify_items": null,
            "left": null,
            "margin": null,
            "max_height": null,
            "max_width": null,
            "min_height": null,
            "min_width": null,
            "object_fit": null,
            "object_position": null,
            "order": null,
            "overflow": null,
            "overflow_x": null,
            "overflow_y": null,
            "padding": null,
            "right": null,
            "top": null,
            "visibility": null,
            "width": null
          }
        },
        "1cd54a403f684d8585928556a92dc7d4": {
          "model_module": "@jupyter-widgets/controls",
          "model_name": "ButtonStyleModel",
          "model_module_version": "1.5.0",
          "state": {
            "_model_module": "@jupyter-widgets/controls",
            "_model_module_version": "1.5.0",
            "_model_name": "ButtonStyleModel",
            "_view_count": null,
            "_view_module": "@jupyter-widgets/base",
            "_view_module_version": "1.2.0",
            "_view_name": "StyleView",
            "button_color": null,
            "font_weight": ""
          }
        }
      }
    }
  },
  "cells": [
    {
      "cell_type": "markdown",
      "metadata": {
        "id": "view-in-github",
        "colab_type": "text"
      },
      "source": [
        "<a href=\"https://colab.research.google.com/github/MazRadwan/Machine_Learning/blob/main/kmeans_clustering_workshop_starter.ipynb\" target=\"_parent\"><img src=\"https://colab.research.google.com/assets/colab-badge.svg\" alt=\"Open In Colab\"/></a>"
      ]
    },
    {
      "cell_type": "markdown",
      "metadata": {
        "id": "IEPc36xLpH2w"
      },
      "source": [
        "# K-Means Clustering\n",
        "\n",
        "In this workshop we will learn about the K-Means clustering machine learning algorithm. This algorithm has various applications such as:\n",
        "\n",
        "- Market segmentation\n",
        "- Social network analysis\n",
        "- Astronomical data analysis\n",
        "- Organizing computer clusters\n",
        "- Image compression\n",
        "- Grouping of artistic works\n",
        "\n",
        "This algorithm is more straightforward than most, and despite it's simplicity it is popular and widely used. Before we get into the details of the algorithm though, there are a few properties of the algorithm that we need to understand.\n",
        "\n",
        "In this notebook we will go through the basics of the K-Means algorithm and then proceed to a practical application: customer segmentation."
      ]
    },
    {
      "cell_type": "markdown",
      "metadata": {
        "id": "-z-5hhIjO16l"
      },
      "source": [
        "## Supervised vs Unsupervised Machine Learning\n",
        "\n",
        "Most machine learning algorithms can be grouped into one of two categories: _supervised_ or _unsupervised_:\n",
        "\n",
        "- Supervised algorithms use labels while they're training to learn the expected results from various samples.\n",
        "  - An example of this is predicting the price of cars. We show the algorithm car prices that we know of, then it can learn from those and use them to predict previously unseen car prices.\n",
        "  - The name 'supervised' comes from the idea that we are supervising our algorithm as it learns by showing it the correct labels for each sample.\n",
        "- In contrast, unsupervised algorithms learn only from the structure of the data itself and do not use labels.\n",
        "  - An important difference to remember for this type of algorithm is that the **meaning of the output is unknown**.\n",
        "    - In supervised learning it is very clear that the output of the algorithm carries the same meaning as the labels we used, whereas in unsupervised learning the output is just a representation of whatever structure the algorithm learned.\n",
        "    - This means that after an unsupervised algorithm is done, it is up to the humans to decide what the output means in their context.\n",
        "  - The name 'unsupervised' comes from the idea that we are only giving the algorithm the data, then letting it figure out on it's own what the structure of the data is without supervision.\n",
        "\n",
        "For supervised learning, you can think of it as the algorithm studying for a test using flashcards, where each sample is a flash card, with questions (inputs) on the front of the card and the answer (the label) on the back.\n",
        "\n",
        "For unsupervised learning, it's as though the flashcards only have a front and don't have an answer on the back, and the goal of the computer in this test is to organize the questions and determine their similarities and differences.\n",
        "\n",
        "**The K-Means algorithm is an unsupervised machine learning algorithm**.\n"
      ]
    },
    {
      "cell_type": "markdown",
      "metadata": {
        "id": "yWDBMmT4O2-K"
      },
      "source": [
        "## Clustering\n",
        "\n",
        "In addition to being unsupervised, the **K-Means algorithm is also a clustering algorithm**. Clustering algorithms are another category of machine learning algorithms (which are typically unsupervised) which find groups of similar data within a dataset, and they allow us to categorize new, previously unseen data into the learned groups. K-Means splits the data into $k$ categories, which is where it gets it's name from."
      ]
    },
    {
      "cell_type": "markdown",
      "metadata": {
        "id": "8UebPbfnRaeR"
      },
      "source": [
        "## The K-Means Algorithm\n",
        "\n",
        "To use K-Means, you must first decide on the value for $k$, the number of **clusters** which the algorithm should group our data into.\n",
        "\n",
        "After $k$ has been decided, the algorithm works as follows:\n",
        "\n",
        "1. Initialize $k$ points known as cluster **centroids**.\n",
        "  - These points will be moved throughout the algorithm towards the centers of the data clusters\n",
        "2. For each data point, assign that point to the centroid which is closest to it.\n",
        "3. Move each centroid to the center of all points assigned to it.\n",
        "4. Repeat steps 2 and 3 until the centroids stop moving.\n",
        "\n",
        "After the algorithm is finished, we will have $k$ groups of data which are the collections of points assigned to each of our $k$ centroids. When a new data point is introduced which we want to categorize, we can simply find the centroid which is closest to it and assign it to that group."
      ]
    },
    {
      "cell_type": "markdown",
      "metadata": {
        "id": "5xDLayZZWYgD"
      },
      "source": [
        "## K-Means in Action\n",
        "\n",
        "Let's use K-Means on some example data to get a better understanding of how it works. We'll start by generating some data using SKLearn's `make_blobs` function. This function creates data which is neatly organized into groups."
      ]
    },
    {
      "cell_type": "code",
      "metadata": {
        "id": "_CvSgytC54jY"
      },
      "source": [
        "if 'sklearn_installed' not in globals().keys():\n",
        "  # Make sure a suitable version of sklearn is installed\n",
        "  !pip install scikit-learn~=0.24.2\n",
        "  !pip install scipy scikit-learn==0.24.2\n",
        "  !pip install -U scikit-learn\n",
        "\n",
        "sklearn_installed = True"
      ],
      "execution_count": 3,
      "outputs": []
    },
    {
      "cell_type": "code",
      "metadata": {
        "id": "icdP3i8BWsGB"
      },
      "source": [
        "from types import new_class\n",
        "from sklearn.datasets import make_blobs\n",
        "\n",
        "n_clusters = 3\n",
        "\n",
        "X_practice, _ = make_blobs(\n",
        "    n_samples=150, n_features=2,\n",
        "    centers=n_clusters,\n",
        "    cluster_std=0.5,\n",
        "    shuffle=False, random_state=0\n",
        ")"
      ],
      "execution_count": 15,
      "outputs": []
    },
    {
      "cell_type": "markdown",
      "metadata": {
        "id": "jJojQ1RmZo8n"
      },
      "source": [
        "It's not very clear from the just looking at the numbers how this data is grouped, so let's visualize it in a scatter plot."
      ]
    },
    {
      "cell_type": "code",
      "metadata": {
        "id": "PpPFVEuKo-rM",
        "colab": {
          "base_uri": "https://localhost:8080/",
          "height": 655
        },
        "outputId": "1ce07414-9e7e-480a-f8d0-0909be48555f"
      },
      "source": [
        "from bokeh.io import output_notebook, push_notebook, show\n",
        "from bokeh.plotting import figure\n",
        "\n",
        "output_notebook()\n",
        "\n",
        "data_plot = figure()\n",
        "\n",
        "#Grab our two feature colums and plot them so we can see the cluster pattern\n",
        "# of the data\n",
        "\n",
        "x1 = X_practice[:, 0]\n",
        "x2 = X_practice[:, 1]\n",
        "data_plot.circle(x=x1, y=x2, size=5)  # Add circle glyph with size\n",
        "data_plot.x_range.start = min(x1)\n",
        "data_plot.x_range.end = max(x1)\n",
        "data_plot.y_range.start = min(x2)\n",
        "data_plot.y_range.end = max(x2)\n",
        "\n",
        "show(data_plot)"
      ],
      "execution_count": 19,
      "outputs": [
        {
          "output_type": "stream",
          "name": "stderr",
          "text": [
            "BokehDeprecationWarning: 'circle() method with size value' was deprecated in Bokeh 3.4.0 and will be removed, use 'scatter(size=...) instead' instead.\n"
          ]
        },
        {
          "output_type": "display_data",
          "data": {
            "application/javascript": [
              "'use strict';\n",
              "(function(root) {\n",
              "  function now() {\n",
              "    return new Date();\n",
              "  }\n",
              "\n",
              "  const force = true;\n",
              "\n",
              "  if (typeof root._bokeh_onload_callbacks === \"undefined\" || force === true) {\n",
              "    root._bokeh_onload_callbacks = [];\n",
              "    root._bokeh_is_loading = undefined;\n",
              "  }\n",
              "\n",
              "const JS_MIME_TYPE = 'application/javascript';\n",
              "  const HTML_MIME_TYPE = 'text/html';\n",
              "  const EXEC_MIME_TYPE = 'application/vnd.bokehjs_exec.v0+json';\n",
              "  const CLASS_NAME = 'output_bokeh rendered_html';\n",
              "\n",
              "  /**\n",
              "   * Render data to the DOM node\n",
              "   */\n",
              "  function render(props, node) {\n",
              "    const script = document.createElement(\"script\");\n",
              "    node.appendChild(script);\n",
              "  }\n",
              "\n",
              "  /**\n",
              "   * Handle when an output is cleared or removed\n",
              "   */\n",
              "  function handleClearOutput(event, handle) {\n",
              "    function drop(id) {\n",
              "      const view = Bokeh.index.get_by_id(id)\n",
              "      if (view != null) {\n",
              "        view.model.document.clear()\n",
              "        Bokeh.index.delete(view)\n",
              "      }\n",
              "    }\n",
              "\n",
              "    const cell = handle.cell;\n",
              "\n",
              "    const id = cell.output_area._bokeh_element_id;\n",
              "    const server_id = cell.output_area._bokeh_server_id;\n",
              "\n",
              "    // Clean up Bokeh references\n",
              "    if (id != null) {\n",
              "      drop(id)\n",
              "    }\n",
              "\n",
              "    if (server_id !== undefined) {\n",
              "      // Clean up Bokeh references\n",
              "      const cmd_clean = \"from bokeh.io.state import curstate; print(curstate().uuid_to_server['\" + server_id + \"'].get_sessions()[0].document.roots[0]._id)\";\n",
              "      cell.notebook.kernel.execute(cmd_clean, {\n",
              "        iopub: {\n",
              "          output: function(msg) {\n",
              "            const id = msg.content.text.trim()\n",
              "            drop(id)\n",
              "          }\n",
              "        }\n",
              "      });\n",
              "      // Destroy server and session\n",
              "      const cmd_destroy = \"import bokeh.io.notebook as ion; ion.destroy_server('\" + server_id + \"')\";\n",
              "      cell.notebook.kernel.execute(cmd_destroy);\n",
              "    }\n",
              "  }\n",
              "\n",
              "  /**\n",
              "   * Handle when a new output is added\n",
              "   */\n",
              "  function handleAddOutput(event, handle) {\n",
              "    const output_area = handle.output_area;\n",
              "    const output = handle.output;\n",
              "\n",
              "    // limit handleAddOutput to display_data with EXEC_MIME_TYPE content only\n",
              "    if ((output.output_type != \"display_data\") || (!Object.prototype.hasOwnProperty.call(output.data, EXEC_MIME_TYPE))) {\n",
              "      return\n",
              "    }\n",
              "\n",
              "    const toinsert = output_area.element.find(\".\" + CLASS_NAME.split(' ')[0]);\n",
              "\n",
              "    if (output.metadata[EXEC_MIME_TYPE][\"id\"] !== undefined) {\n",
              "      toinsert[toinsert.length - 1].firstChild.textContent = output.data[JS_MIME_TYPE];\n",
              "      // store reference to embed id on output_area\n",
              "      output_area._bokeh_element_id = output.metadata[EXEC_MIME_TYPE][\"id\"];\n",
              "    }\n",
              "    if (output.metadata[EXEC_MIME_TYPE][\"server_id\"] !== undefined) {\n",
              "      const bk_div = document.createElement(\"div\");\n",
              "      bk_div.innerHTML = output.data[HTML_MIME_TYPE];\n",
              "      const script_attrs = bk_div.children[0].attributes;\n",
              "      for (let i = 0; i < script_attrs.length; i++) {\n",
              "        toinsert[toinsert.length - 1].firstChild.setAttribute(script_attrs[i].name, script_attrs[i].value);\n",
              "        toinsert[toinsert.length - 1].firstChild.textContent = bk_div.children[0].textContent\n",
              "      }\n",
              "      // store reference to server id on output_area\n",
              "      output_area._bokeh_server_id = output.metadata[EXEC_MIME_TYPE][\"server_id\"];\n",
              "    }\n",
              "  }\n",
              "\n",
              "  function register_renderer(events, OutputArea) {\n",
              "\n",
              "    function append_mime(data, metadata, element) {\n",
              "      // create a DOM node to render to\n",
              "      const toinsert = this.create_output_subarea(\n",
              "        metadata,\n",
              "        CLASS_NAME,\n",
              "        EXEC_MIME_TYPE\n",
              "      );\n",
              "      this.keyboard_manager.register_events(toinsert);\n",
              "      // Render to node\n",
              "      const props = {data: data, metadata: metadata[EXEC_MIME_TYPE]};\n",
              "      render(props, toinsert[toinsert.length - 1]);\n",
              "      element.append(toinsert);\n",
              "      return toinsert\n",
              "    }\n",
              "\n",
              "    /* Handle when an output is cleared or removed */\n",
              "    events.on('clear_output.CodeCell', handleClearOutput);\n",
              "    events.on('delete.Cell', handleClearOutput);\n",
              "\n",
              "    /* Handle when a new output is added */\n",
              "    events.on('output_added.OutputArea', handleAddOutput);\n",
              "\n",
              "    /**\n",
              "     * Register the mime type and append_mime function with output_area\n",
              "     */\n",
              "    OutputArea.prototype.register_mime_type(EXEC_MIME_TYPE, append_mime, {\n",
              "      /* Is output safe? */\n",
              "      safe: true,\n",
              "      /* Index of renderer in `output_area.display_order` */\n",
              "      index: 0\n",
              "    });\n",
              "  }\n",
              "\n",
              "  // register the mime type if in Jupyter Notebook environment and previously unregistered\n",
              "  if (root.Jupyter !== undefined) {\n",
              "    const events = require('base/js/events');\n",
              "    const OutputArea = require('notebook/js/outputarea').OutputArea;\n",
              "\n",
              "    if (OutputArea.prototype.mime_types().indexOf(EXEC_MIME_TYPE) == -1) {\n",
              "      register_renderer(events, OutputArea);\n",
              "    }\n",
              "  }\n",
              "  if (typeof (root._bokeh_timeout) === \"undefined\" || force === true) {\n",
              "    root._bokeh_timeout = Date.now() + 5000;\n",
              "    root._bokeh_failed_load = false;\n",
              "  }\n",
              "\n",
              "  const NB_LOAD_WARNING = {'data': {'text/html':\n",
              "     \"<div style='background-color: #fdd'>\\n\"+\n",
              "     \"<p>\\n\"+\n",
              "     \"BokehJS does not appear to have successfully loaded. If loading BokehJS from CDN, this \\n\"+\n",
              "     \"may be due to a slow or bad network connection. Possible fixes:\\n\"+\n",
              "     \"</p>\\n\"+\n",
              "     \"<ul>\\n\"+\n",
              "     \"<li>re-rerun `output_notebook()` to attempt to load from CDN again, or</li>\\n\"+\n",
              "     \"<li>use INLINE resources instead, as so:</li>\\n\"+\n",
              "     \"</ul>\\n\"+\n",
              "     \"<code>\\n\"+\n",
              "     \"from bokeh.resources import INLINE\\n\"+\n",
              "     \"output_notebook(resources=INLINE)\\n\"+\n",
              "     \"</code>\\n\"+\n",
              "     \"</div>\"}};\n",
              "\n",
              "  function display_loaded(error = null) {\n",
              "    const el = document.getElementById(null);\n",
              "    if (el != null) {\n",
              "      const html = (() => {\n",
              "        if (typeof root.Bokeh === \"undefined\") {\n",
              "          if (error == null) {\n",
              "            return \"BokehJS is loading ...\";\n",
              "          } else {\n",
              "            return \"BokehJS failed to load.\";\n",
              "          }\n",
              "        } else {\n",
              "          const prefix = `BokehJS ${root.Bokeh.version}`;\n",
              "          if (error == null) {\n",
              "            return `${prefix} successfully loaded.`;\n",
              "          } else {\n",
              "            return `${prefix} <b>encountered errors</b> while loading and may not function as expected.`;\n",
              "          }\n",
              "        }\n",
              "      })();\n",
              "      el.innerHTML = html;\n",
              "\n",
              "      if (error != null) {\n",
              "        const wrapper = document.createElement(\"div\");\n",
              "        wrapper.style.overflow = \"auto\";\n",
              "        wrapper.style.height = \"5em\";\n",
              "        wrapper.style.resize = \"vertical\";\n",
              "        const content = document.createElement(\"div\");\n",
              "        content.style.fontFamily = \"monospace\";\n",
              "        content.style.whiteSpace = \"pre-wrap\";\n",
              "        content.style.backgroundColor = \"rgb(255, 221, 221)\";\n",
              "        content.textContent = error.stack ?? error.toString();\n",
              "        wrapper.append(content);\n",
              "        el.append(wrapper);\n",
              "      }\n",
              "    } else if (Date.now() < root._bokeh_timeout) {\n",
              "      setTimeout(() => display_loaded(error), 100);\n",
              "    }\n",
              "  }\n",
              "\n",
              "  function run_callbacks() {\n",
              "    try {\n",
              "      root._bokeh_onload_callbacks.forEach(function(callback) {\n",
              "        if (callback != null)\n",
              "          callback();\n",
              "      });\n",
              "    } finally {\n",
              "      delete root._bokeh_onload_callbacks\n",
              "    }\n",
              "    console.debug(\"Bokeh: all callbacks have finished\");\n",
              "  }\n",
              "\n",
              "  function load_libs(css_urls, js_urls, callback) {\n",
              "    if (css_urls == null) css_urls = [];\n",
              "    if (js_urls == null) js_urls = [];\n",
              "\n",
              "    root._bokeh_onload_callbacks.push(callback);\n",
              "    if (root._bokeh_is_loading > 0) {\n",
              "      console.debug(\"Bokeh: BokehJS is being loaded, scheduling callback at\", now());\n",
              "      return null;\n",
              "    }\n",
              "    if (js_urls == null || js_urls.length === 0) {\n",
              "      run_callbacks();\n",
              "      return null;\n",
              "    }\n",
              "    console.debug(\"Bokeh: BokehJS not loaded, scheduling load and callback at\", now());\n",
              "    root._bokeh_is_loading = css_urls.length + js_urls.length;\n",
              "\n",
              "    function on_load() {\n",
              "      root._bokeh_is_loading--;\n",
              "      if (root._bokeh_is_loading === 0) {\n",
              "        console.debug(\"Bokeh: all BokehJS libraries/stylesheets loaded\");\n",
              "        run_callbacks()\n",
              "      }\n",
              "    }\n",
              "\n",
              "    function on_error(url) {\n",
              "      console.error(\"failed to load \" + url);\n",
              "    }\n",
              "\n",
              "    for (let i = 0; i < css_urls.length; i++) {\n",
              "      const url = css_urls[i];\n",
              "      const element = document.createElement(\"link\");\n",
              "      element.onload = on_load;\n",
              "      element.onerror = on_error.bind(null, url);\n",
              "      element.rel = \"stylesheet\";\n",
              "      element.type = \"text/css\";\n",
              "      element.href = url;\n",
              "      console.debug(\"Bokeh: injecting link tag for BokehJS stylesheet: \", url);\n",
              "      document.body.appendChild(element);\n",
              "    }\n",
              "\n",
              "    for (let i = 0; i < js_urls.length; i++) {\n",
              "      const url = js_urls[i];\n",
              "      const element = document.createElement('script');\n",
              "      element.onload = on_load;\n",
              "      element.onerror = on_error.bind(null, url);\n",
              "      element.async = false;\n",
              "      element.src = url;\n",
              "      console.debug(\"Bokeh: injecting script tag for BokehJS library: \", url);\n",
              "      document.head.appendChild(element);\n",
              "    }\n",
              "  };\n",
              "\n",
              "  function inject_raw_css(css) {\n",
              "    const element = document.createElement(\"style\");\n",
              "    element.appendChild(document.createTextNode(css));\n",
              "    document.body.appendChild(element);\n",
              "  }\n",
              "\n",
              "  const js_urls = [\"https://cdn.bokeh.org/bokeh/release/bokeh-3.6.2.min.js\", \"https://cdn.bokeh.org/bokeh/release/bokeh-gl-3.6.2.min.js\", \"https://cdn.bokeh.org/bokeh/release/bokeh-widgets-3.6.2.min.js\", \"https://cdn.bokeh.org/bokeh/release/bokeh-tables-3.6.2.min.js\", \"https://cdn.bokeh.org/bokeh/release/bokeh-mathjax-3.6.2.min.js\"];\n",
              "  const css_urls = [];\n",
              "\n",
              "  const inline_js = [    function(Bokeh) {\n",
              "      Bokeh.set_log_level(\"info\");\n",
              "    },\n",
              "function(Bokeh) {\n",
              "    }\n",
              "  ];\n",
              "\n",
              "  function run_inline_js() {\n",
              "    if (root.Bokeh !== undefined || force === true) {\n",
              "      try {\n",
              "            for (let i = 0; i < inline_js.length; i++) {\n",
              "      inline_js[i].call(root, root.Bokeh);\n",
              "    }\n",
              "\n",
              "      } catch (error) {throw error;\n",
              "      }} else if (Date.now() < root._bokeh_timeout) {\n",
              "      setTimeout(run_inline_js, 100);\n",
              "    } else if (!root._bokeh_failed_load) {\n",
              "      console.log(\"Bokeh: BokehJS failed to load within specified timeout.\");\n",
              "      root._bokeh_failed_load = true;\n",
              "    } else if (force !== true) {\n",
              "      const cell = $(document.getElementById(null)).parents('.cell').data().cell;\n",
              "      cell.output_area.append_execute_result(NB_LOAD_WARNING)\n",
              "    }\n",
              "  }\n",
              "\n",
              "  if (root._bokeh_is_loading === 0) {\n",
              "    console.debug(\"Bokeh: BokehJS loaded, going straight to plotting\");\n",
              "    run_inline_js();\n",
              "  } else {\n",
              "    load_libs(css_urls, js_urls, function() {\n",
              "      console.debug(\"Bokeh: BokehJS plotting callback run at\", now());\n",
              "      run_inline_js();\n",
              "    });\n",
              "  }\n",
              "}(window));"
            ],
            "application/vnd.bokehjs_load.v0+json": "'use strict';\n(function(root) {\n  function now() {\n    return new Date();\n  }\n\n  const force = true;\n\n  if (typeof root._bokeh_onload_callbacks === \"undefined\" || force === true) {\n    root._bokeh_onload_callbacks = [];\n    root._bokeh_is_loading = undefined;\n  }\n\n\n  if (typeof (root._bokeh_timeout) === \"undefined\" || force === true) {\n    root._bokeh_timeout = Date.now() + 5000;\n    root._bokeh_failed_load = false;\n  }\n\n  const NB_LOAD_WARNING = {'data': {'text/html':\n     \"<div style='background-color: #fdd'>\\n\"+\n     \"<p>\\n\"+\n     \"BokehJS does not appear to have successfully loaded. If loading BokehJS from CDN, this \\n\"+\n     \"may be due to a slow or bad network connection. Possible fixes:\\n\"+\n     \"</p>\\n\"+\n     \"<ul>\\n\"+\n     \"<li>re-rerun `output_notebook()` to attempt to load from CDN again, or</li>\\n\"+\n     \"<li>use INLINE resources instead, as so:</li>\\n\"+\n     \"</ul>\\n\"+\n     \"<code>\\n\"+\n     \"from bokeh.resources import INLINE\\n\"+\n     \"output_notebook(resources=INLINE)\\n\"+\n     \"</code>\\n\"+\n     \"</div>\"}};\n\n  function display_loaded(error = null) {\n    const el = document.getElementById(null);\n    if (el != null) {\n      const html = (() => {\n        if (typeof root.Bokeh === \"undefined\") {\n          if (error == null) {\n            return \"BokehJS is loading ...\";\n          } else {\n            return \"BokehJS failed to load.\";\n          }\n        } else {\n          const prefix = `BokehJS ${root.Bokeh.version}`;\n          if (error == null) {\n            return `${prefix} successfully loaded.`;\n          } else {\n            return `${prefix} <b>encountered errors</b> while loading and may not function as expected.`;\n          }\n        }\n      })();\n      el.innerHTML = html;\n\n      if (error != null) {\n        const wrapper = document.createElement(\"div\");\n        wrapper.style.overflow = \"auto\";\n        wrapper.style.height = \"5em\";\n        wrapper.style.resize = \"vertical\";\n        const content = document.createElement(\"div\");\n        content.style.fontFamily = \"monospace\";\n        content.style.whiteSpace = \"pre-wrap\";\n        content.style.backgroundColor = \"rgb(255, 221, 221)\";\n        content.textContent = error.stack ?? error.toString();\n        wrapper.append(content);\n        el.append(wrapper);\n      }\n    } else if (Date.now() < root._bokeh_timeout) {\n      setTimeout(() => display_loaded(error), 100);\n    }\n  }\n\n  function run_callbacks() {\n    try {\n      root._bokeh_onload_callbacks.forEach(function(callback) {\n        if (callback != null)\n          callback();\n      });\n    } finally {\n      delete root._bokeh_onload_callbacks\n    }\n    console.debug(\"Bokeh: all callbacks have finished\");\n  }\n\n  function load_libs(css_urls, js_urls, callback) {\n    if (css_urls == null) css_urls = [];\n    if (js_urls == null) js_urls = [];\n\n    root._bokeh_onload_callbacks.push(callback);\n    if (root._bokeh_is_loading > 0) {\n      console.debug(\"Bokeh: BokehJS is being loaded, scheduling callback at\", now());\n      return null;\n    }\n    if (js_urls == null || js_urls.length === 0) {\n      run_callbacks();\n      return null;\n    }\n    console.debug(\"Bokeh: BokehJS not loaded, scheduling load and callback at\", now());\n    root._bokeh_is_loading = css_urls.length + js_urls.length;\n\n    function on_load() {\n      root._bokeh_is_loading--;\n      if (root._bokeh_is_loading === 0) {\n        console.debug(\"Bokeh: all BokehJS libraries/stylesheets loaded\");\n        run_callbacks()\n      }\n    }\n\n    function on_error(url) {\n      console.error(\"failed to load \" + url);\n    }\n\n    for (let i = 0; i < css_urls.length; i++) {\n      const url = css_urls[i];\n      const element = document.createElement(\"link\");\n      element.onload = on_load;\n      element.onerror = on_error.bind(null, url);\n      element.rel = \"stylesheet\";\n      element.type = \"text/css\";\n      element.href = url;\n      console.debug(\"Bokeh: injecting link tag for BokehJS stylesheet: \", url);\n      document.body.appendChild(element);\n    }\n\n    for (let i = 0; i < js_urls.length; i++) {\n      const url = js_urls[i];\n      const element = document.createElement('script');\n      element.onload = on_load;\n      element.onerror = on_error.bind(null, url);\n      element.async = false;\n      element.src = url;\n      console.debug(\"Bokeh: injecting script tag for BokehJS library: \", url);\n      document.head.appendChild(element);\n    }\n  };\n\n  function inject_raw_css(css) {\n    const element = document.createElement(\"style\");\n    element.appendChild(document.createTextNode(css));\n    document.body.appendChild(element);\n  }\n\n  const js_urls = [\"https://cdn.bokeh.org/bokeh/release/bokeh-3.6.2.min.js\", \"https://cdn.bokeh.org/bokeh/release/bokeh-gl-3.6.2.min.js\", \"https://cdn.bokeh.org/bokeh/release/bokeh-widgets-3.6.2.min.js\", \"https://cdn.bokeh.org/bokeh/release/bokeh-tables-3.6.2.min.js\", \"https://cdn.bokeh.org/bokeh/release/bokeh-mathjax-3.6.2.min.js\"];\n  const css_urls = [];\n\n  const inline_js = [    function(Bokeh) {\n      Bokeh.set_log_level(\"info\");\n    },\nfunction(Bokeh) {\n    }\n  ];\n\n  function run_inline_js() {\n    if (root.Bokeh !== undefined || force === true) {\n      try {\n            for (let i = 0; i < inline_js.length; i++) {\n      inline_js[i].call(root, root.Bokeh);\n    }\n\n      } catch (error) {throw error;\n      }} else if (Date.now() < root._bokeh_timeout) {\n      setTimeout(run_inline_js, 100);\n    } else if (!root._bokeh_failed_load) {\n      console.log(\"Bokeh: BokehJS failed to load within specified timeout.\");\n      root._bokeh_failed_load = true;\n    } else if (force !== true) {\n      const cell = $(document.getElementById(null)).parents('.cell').data().cell;\n      cell.output_area.append_execute_result(NB_LOAD_WARNING)\n    }\n  }\n\n  if (root._bokeh_is_loading === 0) {\n    console.debug(\"Bokeh: BokehJS loaded, going straight to plotting\");\n    run_inline_js();\n  } else {\n    load_libs(css_urls, js_urls, function() {\n      console.debug(\"Bokeh: BokehJS plotting callback run at\", now());\n      run_inline_js();\n    });\n  }\n}(window));"
          },
          "metadata": {}
        },
        {
          "output_type": "display_data",
          "data": {
            "text/html": [
              "\n",
              "  <div id=\"e4cfe225-263f-4390-9ec6-4864b12350d1\" data-root-id=\"p1407\" style=\"display: contents;\"></div>\n"
            ]
          },
          "metadata": {}
        },
        {
          "output_type": "display_data",
          "data": {
            "application/javascript": [
              "(function(root) {\n",
              "  function embed_document(root) {\n",
              "  const docs_json = {\"863a7d63-1845-4ed6-bb58-6831850b0824\":{\"version\":\"3.6.2\",\"title\":\"Bokeh Application\",\"roots\":[{\"type\":\"object\",\"name\":\"Figure\",\"id\":\"p1407\",\"attributes\":{\"x_range\":{\"type\":\"object\",\"name\":\"DataRange1d\",\"id\":\"p1408\",\"attributes\":{\"start\":-2.5422462471126526,\"end\":3.2468399088648487}},\"y_range\":{\"type\":\"object\",\"name\":\"DataRange1d\",\"id\":\"p1409\",\"attributes\":{\"start\":-0.21403791617427648,\"end\":5.279175025064285}},\"x_scale\":{\"type\":\"object\",\"name\":\"LinearScale\",\"id\":\"p1416\"},\"y_scale\":{\"type\":\"object\",\"name\":\"LinearScale\",\"id\":\"p1417\"},\"title\":{\"type\":\"object\",\"name\":\"Title\",\"id\":\"p1414\"},\"renderers\":[{\"type\":\"object\",\"name\":\"GlyphRenderer\",\"id\":\"p1447\",\"attributes\":{\"data_source\":{\"type\":\"object\",\"name\":\"ColumnDataSource\",\"id\":\"p1441\",\"attributes\":{\"selected\":{\"type\":\"object\",\"name\":\"Selection\",\"id\":\"p1442\",\"attributes\":{\"indices\":[],\"line_indices\":[]}},\"selection_policy\":{\"type\":\"object\",\"name\":\"UnionRenderers\",\"id\":\"p1443\"},\"data\":{\"type\":\"map\",\"entries\":[[\"x\",{\"type\":\"ndarray\",\"array\":{\"type\":\"bytes\",\"data\":\"CmCDVJU49z/a6eDv0ZbtP69okbDNxfA/FfUaUmi19T9JCVuK1SvzPy6HXRqtkvs/wOxWA/cf8j+o/uUz4jbTv6teU+YqifY/JkA7PqHjAEDLoOIHCPnvP3T+Yx/v4fs/TXgmcyLc8D87o27rOwnhP8+q+WqOrOk/Mh+pA3B2+T/iXJMkHQvpP5ohOIx27dw/AMb7NcaFvz+FH56zERbnP2QTWzNPZNY/cKwfy1CsxT+PpL0AxungPwCqZb1YEec/TMUciivK7j/OxyyOByfwPySe9dJrF+U/TqN83DR75D/siWkS9TriPxU2asUrCvE/LDwoiz+hxD/KnEF1T7ngPxq6ec76c/U/6PTfeku8+D8eJKxEzNbyP2N6msHRTuE/fuNlPXxB6j9GlTctTTLZPwSsY5p6WPM/ySXbI76G+z9OUZFb8Qz5PwYba36aN9w/TnHREzHK6D/1DBJyWUnxP7nJ4P+jePI/BhxH0Zxo7z+wwnPct6LwPzYZwa9+r/4/CikJV2XT1T8MhHZm+/DYP1drdrpIk/0/yAcY0EciCECPN3J5kekHQPcUk+eV/vk/R7vFPoG9/j8zUqOELDsEQP3RG1IB5gJA9HPvyqXyAUBxNztylaIBQO4rPprmU/s/N01GaS5n/T+GPpMiniEDQLcaDnCWufo/oy2wrFd9+z8k8lG6Kcz7P2rS2uudvwJAyDHI4bIGAkB2tFy8R/T0PyGfF47cGwFAjmC/M4f5CUAymyZ16pT5P8Csa7tlW/Y/V0yM+E4rAEDleC8uHu36P9E3FlxfDABAbncI8tzyBEA5CdcmXLT3PzTNUMJn5vw/2zv4EGU9BEAOgSsPrxT3Pzxm4Urv4fg/Hv3r+roxBUAIK7q2JSAEQDQEKhqV3gNACazkFT+c+D/xBoom/nT6PxhjqvhxPf0/DdTSb2UN/j/kMZfKPrz7PxUNk8Vs8QJAk5+oQ5kM+D8RtDoxwPf6Px0BRNWaivY/s1raV/ZIAEBNqGfvBYkCQMb6S1yAhwNAKHNHbFcYCUB8cc+WSu79P9LzbEM91wRAqpevvK4AA0AHkDTMBKD4v5bQXMvpMPa/C5PwBScm8b9jM4WWzCPyvy6yvr1s/P+/5uZVgA6R+L849WFTiWzZvyrrjrL8CQDAagF8taQj/L88nNIk4GACwARWHWesLfe/IFy7jIA1/b/PuGV5VukBwGC1/Kj6xfy/suQavQfXAMDq7e0t/fLov7IYrJA4BfW/LMJefKuH/b/HyEaYVn75v1t8r7EO5/q/uCQPlXJs7r+o2PYF+O/+v2gJM9cOQ/S/7X7+j3pL979JmhBv7eXyvyQ5o+Y4PP6/teYnQQeMAsBVRcbFffgAwGAIeTJzM/2/9Gqvldn1A8C6ax4gRT30vxN/sMrk6vq/cM4tsfM89b8H7cAZ+5Dhv0SQtuRUpv2/aqN7AwR79L8U0k0zhVYEwAc+7AqWUPm/lDFKVYT3/b+CCrVXxCP2v+zkhVlwZQDAaMxHhHPp8r8iMEyshXT9v+B7khkc/9e/CDkBs5+E+b8LAezfDqb3vyCINzxFoPu/zIxVoPtwAcB51LnkMmD5v846zz9yGfO/\"},\"shape\":[150],\"dtype\":\"float64\",\"order\":\"little\"}],[\"y\",{\"type\":\"ndarray\",\"array\":{\"type\":\"bytes\",\"data\":\"7wNKVZXpEEBLi/T9TQkSQL8C8Y+qHxRAZ3mCNmB1EUCvfvhi6+ERQFWQboUJzhBAQtMS+o8DD0CWRCgfu4USQAUed/Etdg9AfVWf0OKcDEBv66x2PdcQQALyXtFjJxRAUtn9irL4EUCibBYk0oEKQDxzS/8ghxFABB5RW7KeE0CA5VqZTJwQQOn4Qt4OwAxAWgvKDuAdFUBNCxTAyFYQQMXTtz0nxRJA1TItuyfKEECtaf8bLP0RQFT/NGgwtQ1AetgQV2ISEkC60iqf8dERQDyqp9BafRBAG1dVrPx+EECi939scYYLQJT6VstdaRBA/J8q0gUkEkCQkLGcrFERQFY2wBIeeRFAfPDX3rF9DUAkZ6Ax6bAPQJJkugq1DhBAP2mZutVTEUB4/4onTQQTQOimRfwKSQxAkhrhAsYBFUBEN8bq9NoQQIkUNh/1UhNA3DduWPioE0CVtZQOHisTQCaNxPvXoBJAEcF9pHHJFEBy/TOT5QQSQKmpWBkNCg1ABhleymgnE0BYrFlXNhoVQG+zofYVxOA/on93tew0+j+D7GPpaJz1PwY6OrSkpP0/aiYn1ELI9D/ttsFGvT7qP44bGHaCvfU/4j93tgdF1j90B2XHRPn4PxLEtvPBVOo/Ddf/WR8o/T8ODMzrT5/xP9PMK3M2rfI/I4s05gk87T+in+FtKsbzP7SiVxB4ZOk/DPx+JvZ41j+oYLxdtODxP/Dsju5fcfM/iMrG1B/r9T8toDfOekz3P4d055kCV+U/bHJGmcER/D/rNJkLIwHfP542b7sNHOI/+oXEwYXk1j+BWGyMWbjlP9KtQRKDzP0/+kovRUUg7j/9ozDyFR71P1ALAfgcCcA/HEQrx+3l8D9ooFGnlenwP6JixlMPT+I/zhONZbzQ8z/kS8HKQ7HhP9uzzV1BAe0/tCtq2XDnyj/oRwktmGXLv0girHMPvbg/5WueMFSP7T/aCSib7LT6P36k1SLAf/A/uG4gqkwS1D9UJCLGAfvpPz4Db+pd8/Q/+gKsIgoO+T8iNBfhKeXoP5aGEXvPmvM/uH+Mtd7Utj/KIcZHFGQEQBKciR5R8wZAhs2/gaecCED9MPWvNXoFQAzgl5buswVA1sHxARPcCECAaj4yjSwHQId4wZuJ9QVAXvttItxECUAIt0BompgHQOr1RIWTRQhAgiOv5jBkBkB0AbrOqV4FQIDNqK3bAQlAfDPaDMV3CkD67FIAUSD+P9Fz8wj6DApADmCHOwTBBUBruQ+Q4iYGQDRmL1CYowBAVtfzMFqpC0DoJuhQNHoBQMXsIEs3CgVAb79eoNQQBkCSvXv5Ph8KQId8JBhCzwFADbVt8tnICUD93uTJ11AFQFXEJnT+IQdA/bDd1CEZCEAXcID5XbIHQCcIM4aPuwdAqTzwMmCB+D9iXW1HR+cIQJ5EzZJ8xwVAQa07tO7gBkBAfVkS3ZkPQPZldM96bAtAwUZ5rhJ9DUC4zsVpR8cJQNSZNyAJMAxABaVB1emMDEDn6zZIQGsFQD61AN5dGgNA1veF5//jC0D+huZ2xKwJQA4G8JXC0ghAD9r1qb/5DUBzjxkFUp8EQPo3IroLgAVA\"},\"shape\":[150],\"dtype\":\"float64\",\"order\":\"little\"}]]}}},\"view\":{\"type\":\"object\",\"name\":\"CDSView\",\"id\":\"p1448\",\"attributes\":{\"filter\":{\"type\":\"object\",\"name\":\"AllIndices\",\"id\":\"p1449\"}}},\"glyph\":{\"type\":\"object\",\"name\":\"Scatter\",\"id\":\"p1444\",\"attributes\":{\"x\":{\"type\":\"field\",\"field\":\"x\"},\"y\":{\"type\":\"field\",\"field\":\"y\"},\"size\":{\"type\":\"value\",\"value\":5},\"line_color\":{\"type\":\"value\",\"value\":\"#1f77b4\"},\"fill_color\":{\"type\":\"value\",\"value\":\"#1f77b4\"}}},\"nonselection_glyph\":{\"type\":\"object\",\"name\":\"Scatter\",\"id\":\"p1445\",\"attributes\":{\"x\":{\"type\":\"field\",\"field\":\"x\"},\"y\":{\"type\":\"field\",\"field\":\"y\"},\"size\":{\"type\":\"value\",\"value\":5},\"line_color\":{\"type\":\"value\",\"value\":\"#1f77b4\"},\"line_alpha\":{\"type\":\"value\",\"value\":0.1},\"fill_color\":{\"type\":\"value\",\"value\":\"#1f77b4\"},\"fill_alpha\":{\"type\":\"value\",\"value\":0.1},\"hatch_alpha\":{\"type\":\"value\",\"value\":0.1}}},\"muted_glyph\":{\"type\":\"object\",\"name\":\"Scatter\",\"id\":\"p1446\",\"attributes\":{\"x\":{\"type\":\"field\",\"field\":\"x\"},\"y\":{\"type\":\"field\",\"field\":\"y\"},\"size\":{\"type\":\"value\",\"value\":5},\"line_color\":{\"type\":\"value\",\"value\":\"#1f77b4\"},\"line_alpha\":{\"type\":\"value\",\"value\":0.2},\"fill_color\":{\"type\":\"value\",\"value\":\"#1f77b4\"},\"fill_alpha\":{\"type\":\"value\",\"value\":0.2},\"hatch_alpha\":{\"type\":\"value\",\"value\":0.2}}}}}],\"toolbar\":{\"type\":\"object\",\"name\":\"Toolbar\",\"id\":\"p1415\",\"attributes\":{\"tools\":[{\"type\":\"object\",\"name\":\"PanTool\",\"id\":\"p1428\"},{\"type\":\"object\",\"name\":\"WheelZoomTool\",\"id\":\"p1429\",\"attributes\":{\"renderers\":\"auto\"}},{\"type\":\"object\",\"name\":\"BoxZoomTool\",\"id\":\"p1430\",\"attributes\":{\"overlay\":{\"type\":\"object\",\"name\":\"BoxAnnotation\",\"id\":\"p1431\",\"attributes\":{\"syncable\":false,\"line_color\":\"black\",\"line_alpha\":1.0,\"line_width\":2,\"line_dash\":[4,4],\"fill_color\":\"lightgrey\",\"fill_alpha\":0.5,\"level\":\"overlay\",\"visible\":false,\"left\":{\"type\":\"number\",\"value\":\"nan\"},\"right\":{\"type\":\"number\",\"value\":\"nan\"},\"top\":{\"type\":\"number\",\"value\":\"nan\"},\"bottom\":{\"type\":\"number\",\"value\":\"nan\"},\"left_units\":\"canvas\",\"right_units\":\"canvas\",\"top_units\":\"canvas\",\"bottom_units\":\"canvas\",\"handles\":{\"type\":\"object\",\"name\":\"BoxInteractionHandles\",\"id\":\"p1437\",\"attributes\":{\"all\":{\"type\":\"object\",\"name\":\"AreaVisuals\",\"id\":\"p1436\",\"attributes\":{\"fill_color\":\"white\",\"hover_fill_color\":\"lightgray\"}}}}}}}},{\"type\":\"object\",\"name\":\"SaveTool\",\"id\":\"p1438\"},{\"type\":\"object\",\"name\":\"ResetTool\",\"id\":\"p1439\"},{\"type\":\"object\",\"name\":\"HelpTool\",\"id\":\"p1440\"}]}},\"left\":[{\"type\":\"object\",\"name\":\"LinearAxis\",\"id\":\"p1423\",\"attributes\":{\"ticker\":{\"type\":\"object\",\"name\":\"BasicTicker\",\"id\":\"p1424\",\"attributes\":{\"mantissas\":[1,2,5]}},\"formatter\":{\"type\":\"object\",\"name\":\"BasicTickFormatter\",\"id\":\"p1425\"},\"major_label_policy\":{\"type\":\"object\",\"name\":\"AllLabels\",\"id\":\"p1426\"}}}],\"below\":[{\"type\":\"object\",\"name\":\"LinearAxis\",\"id\":\"p1418\",\"attributes\":{\"ticker\":{\"type\":\"object\",\"name\":\"BasicTicker\",\"id\":\"p1419\",\"attributes\":{\"mantissas\":[1,2,5]}},\"formatter\":{\"type\":\"object\",\"name\":\"BasicTickFormatter\",\"id\":\"p1420\"},\"major_label_policy\":{\"type\":\"object\",\"name\":\"AllLabels\",\"id\":\"p1421\"}}}],\"center\":[{\"type\":\"object\",\"name\":\"Grid\",\"id\":\"p1422\",\"attributes\":{\"axis\":{\"id\":\"p1418\"}}},{\"type\":\"object\",\"name\":\"Grid\",\"id\":\"p1427\",\"attributes\":{\"dimension\":1,\"axis\":{\"id\":\"p1423\"}}}]}}]}};\n",
              "  const render_items = [{\"docid\":\"863a7d63-1845-4ed6-bb58-6831850b0824\",\"roots\":{\"p1407\":\"e4cfe225-263f-4390-9ec6-4864b12350d1\"},\"root_ids\":[\"p1407\"]}];\n",
              "  void root.Bokeh.embed.embed_items_notebook(docs_json, render_items);\n",
              "  }\n",
              "  if (root.Bokeh !== undefined) {\n",
              "    embed_document(root);\n",
              "  } else {\n",
              "    let attempts = 0;\n",
              "    const timer = setInterval(function(root) {\n",
              "      if (root.Bokeh !== undefined) {\n",
              "        clearInterval(timer);\n",
              "        embed_document(root);\n",
              "      } else {\n",
              "        attempts++;\n",
              "        if (attempts > 100) {\n",
              "          clearInterval(timer);\n",
              "          console.log(\"Bokeh: ERROR: Unable to run BokehJS code because BokehJS library is missing\");\n",
              "        }\n",
              "      }\n",
              "    }, 10, root)\n",
              "  }\n",
              "})(window);"
            ],
            "application/vnd.bokehjs_exec.v0+json": ""
          },
          "metadata": {
            "application/vnd.bokehjs_exec.v0+json": {
              "id": "p1407"
            }
          }
        }
      ]
    },
    {
      "cell_type": "markdown",
      "metadata": {
        "id": "78qir7w2azY0"
      },
      "source": [
        "Now it's very clear that our dataset is split into 3 groups, so let's use K-Means to identify these groups. Following step 1 of the algorithm, we will initialize 3 centroids:"
      ]
    },
    {
      "cell_type": "code",
      "metadata": {
        "id": "P-0CyL-jZ2u1",
        "colab": {
          "base_uri": "https://localhost:8080/",
          "height": 655
        },
        "outputId": "8e6db4b0-9eef-42c0-b559-fb9aee5a5d65"
      },
      "source": [
        "import numpy as np\n",
        "\n",
        "init = np.array([[10,2],\n",
        "                 [-10, 3],\n",
        "                 [1,-3]])\n",
        "\n",
        "data_plot.scatter(init[:, 0], init[:, 1], marker='x', size=20, color='red')\n",
        "show(data_plot)"
      ],
      "execution_count": 22,
      "outputs": [
        {
          "output_type": "display_data",
          "data": {
            "application/javascript": [
              "'use strict';\n",
              "(function(root) {\n",
              "  function now() {\n",
              "    return new Date();\n",
              "  }\n",
              "\n",
              "  const force = true;\n",
              "\n",
              "  if (typeof root._bokeh_onload_callbacks === \"undefined\" || force === true) {\n",
              "    root._bokeh_onload_callbacks = [];\n",
              "    root._bokeh_is_loading = undefined;\n",
              "  }\n",
              "\n",
              "const JS_MIME_TYPE = 'application/javascript';\n",
              "  const HTML_MIME_TYPE = 'text/html';\n",
              "  const EXEC_MIME_TYPE = 'application/vnd.bokehjs_exec.v0+json';\n",
              "  const CLASS_NAME = 'output_bokeh rendered_html';\n",
              "\n",
              "  /**\n",
              "   * Render data to the DOM node\n",
              "   */\n",
              "  function render(props, node) {\n",
              "    const script = document.createElement(\"script\");\n",
              "    node.appendChild(script);\n",
              "  }\n",
              "\n",
              "  /**\n",
              "   * Handle when an output is cleared or removed\n",
              "   */\n",
              "  function handleClearOutput(event, handle) {\n",
              "    function drop(id) {\n",
              "      const view = Bokeh.index.get_by_id(id)\n",
              "      if (view != null) {\n",
              "        view.model.document.clear()\n",
              "        Bokeh.index.delete(view)\n",
              "      }\n",
              "    }\n",
              "\n",
              "    const cell = handle.cell;\n",
              "\n",
              "    const id = cell.output_area._bokeh_element_id;\n",
              "    const server_id = cell.output_area._bokeh_server_id;\n",
              "\n",
              "    // Clean up Bokeh references\n",
              "    if (id != null) {\n",
              "      drop(id)\n",
              "    }\n",
              "\n",
              "    if (server_id !== undefined) {\n",
              "      // Clean up Bokeh references\n",
              "      const cmd_clean = \"from bokeh.io.state import curstate; print(curstate().uuid_to_server['\" + server_id + \"'].get_sessions()[0].document.roots[0]._id)\";\n",
              "      cell.notebook.kernel.execute(cmd_clean, {\n",
              "        iopub: {\n",
              "          output: function(msg) {\n",
              "            const id = msg.content.text.trim()\n",
              "            drop(id)\n",
              "          }\n",
              "        }\n",
              "      });\n",
              "      // Destroy server and session\n",
              "      const cmd_destroy = \"import bokeh.io.notebook as ion; ion.destroy_server('\" + server_id + \"')\";\n",
              "      cell.notebook.kernel.execute(cmd_destroy);\n",
              "    }\n",
              "  }\n",
              "\n",
              "  /**\n",
              "   * Handle when a new output is added\n",
              "   */\n",
              "  function handleAddOutput(event, handle) {\n",
              "    const output_area = handle.output_area;\n",
              "    const output = handle.output;\n",
              "\n",
              "    // limit handleAddOutput to display_data with EXEC_MIME_TYPE content only\n",
              "    if ((output.output_type != \"display_data\") || (!Object.prototype.hasOwnProperty.call(output.data, EXEC_MIME_TYPE))) {\n",
              "      return\n",
              "    }\n",
              "\n",
              "    const toinsert = output_area.element.find(\".\" + CLASS_NAME.split(' ')[0]);\n",
              "\n",
              "    if (output.metadata[EXEC_MIME_TYPE][\"id\"] !== undefined) {\n",
              "      toinsert[toinsert.length - 1].firstChild.textContent = output.data[JS_MIME_TYPE];\n",
              "      // store reference to embed id on output_area\n",
              "      output_area._bokeh_element_id = output.metadata[EXEC_MIME_TYPE][\"id\"];\n",
              "    }\n",
              "    if (output.metadata[EXEC_MIME_TYPE][\"server_id\"] !== undefined) {\n",
              "      const bk_div = document.createElement(\"div\");\n",
              "      bk_div.innerHTML = output.data[HTML_MIME_TYPE];\n",
              "      const script_attrs = bk_div.children[0].attributes;\n",
              "      for (let i = 0; i < script_attrs.length; i++) {\n",
              "        toinsert[toinsert.length - 1].firstChild.setAttribute(script_attrs[i].name, script_attrs[i].value);\n",
              "        toinsert[toinsert.length - 1].firstChild.textContent = bk_div.children[0].textContent\n",
              "      }\n",
              "      // store reference to server id on output_area\n",
              "      output_area._bokeh_server_id = output.metadata[EXEC_MIME_TYPE][\"server_id\"];\n",
              "    }\n",
              "  }\n",
              "\n",
              "  function register_renderer(events, OutputArea) {\n",
              "\n",
              "    function append_mime(data, metadata, element) {\n",
              "      // create a DOM node to render to\n",
              "      const toinsert = this.create_output_subarea(\n",
              "        metadata,\n",
              "        CLASS_NAME,\n",
              "        EXEC_MIME_TYPE\n",
              "      );\n",
              "      this.keyboard_manager.register_events(toinsert);\n",
              "      // Render to node\n",
              "      const props = {data: data, metadata: metadata[EXEC_MIME_TYPE]};\n",
              "      render(props, toinsert[toinsert.length - 1]);\n",
              "      element.append(toinsert);\n",
              "      return toinsert\n",
              "    }\n",
              "\n",
              "    /* Handle when an output is cleared or removed */\n",
              "    events.on('clear_output.CodeCell', handleClearOutput);\n",
              "    events.on('delete.Cell', handleClearOutput);\n",
              "\n",
              "    /* Handle when a new output is added */\n",
              "    events.on('output_added.OutputArea', handleAddOutput);\n",
              "\n",
              "    /**\n",
              "     * Register the mime type and append_mime function with output_area\n",
              "     */\n",
              "    OutputArea.prototype.register_mime_type(EXEC_MIME_TYPE, append_mime, {\n",
              "      /* Is output safe? */\n",
              "      safe: true,\n",
              "      /* Index of renderer in `output_area.display_order` */\n",
              "      index: 0\n",
              "    });\n",
              "  }\n",
              "\n",
              "  // register the mime type if in Jupyter Notebook environment and previously unregistered\n",
              "  if (root.Jupyter !== undefined) {\n",
              "    const events = require('base/js/events');\n",
              "    const OutputArea = require('notebook/js/outputarea').OutputArea;\n",
              "\n",
              "    if (OutputArea.prototype.mime_types().indexOf(EXEC_MIME_TYPE) == -1) {\n",
              "      register_renderer(events, OutputArea);\n",
              "    }\n",
              "  }\n",
              "  if (typeof (root._bokeh_timeout) === \"undefined\" || force === true) {\n",
              "    root._bokeh_timeout = Date.now() + 5000;\n",
              "    root._bokeh_failed_load = false;\n",
              "  }\n",
              "\n",
              "  const NB_LOAD_WARNING = {'data': {'text/html':\n",
              "     \"<div style='background-color: #fdd'>\\n\"+\n",
              "     \"<p>\\n\"+\n",
              "     \"BokehJS does not appear to have successfully loaded. If loading BokehJS from CDN, this \\n\"+\n",
              "     \"may be due to a slow or bad network connection. Possible fixes:\\n\"+\n",
              "     \"</p>\\n\"+\n",
              "     \"<ul>\\n\"+\n",
              "     \"<li>re-rerun `output_notebook()` to attempt to load from CDN again, or</li>\\n\"+\n",
              "     \"<li>use INLINE resources instead, as so:</li>\\n\"+\n",
              "     \"</ul>\\n\"+\n",
              "     \"<code>\\n\"+\n",
              "     \"from bokeh.resources import INLINE\\n\"+\n",
              "     \"output_notebook(resources=INLINE)\\n\"+\n",
              "     \"</code>\\n\"+\n",
              "     \"</div>\"}};\n",
              "\n",
              "  function display_loaded(error = null) {\n",
              "    const el = document.getElementById(null);\n",
              "    if (el != null) {\n",
              "      const html = (() => {\n",
              "        if (typeof root.Bokeh === \"undefined\") {\n",
              "          if (error == null) {\n",
              "            return \"BokehJS is loading ...\";\n",
              "          } else {\n",
              "            return \"BokehJS failed to load.\";\n",
              "          }\n",
              "        } else {\n",
              "          const prefix = `BokehJS ${root.Bokeh.version}`;\n",
              "          if (error == null) {\n",
              "            return `${prefix} successfully loaded.`;\n",
              "          } else {\n",
              "            return `${prefix} <b>encountered errors</b> while loading and may not function as expected.`;\n",
              "          }\n",
              "        }\n",
              "      })();\n",
              "      el.innerHTML = html;\n",
              "\n",
              "      if (error != null) {\n",
              "        const wrapper = document.createElement(\"div\");\n",
              "        wrapper.style.overflow = \"auto\";\n",
              "        wrapper.style.height = \"5em\";\n",
              "        wrapper.style.resize = \"vertical\";\n",
              "        const content = document.createElement(\"div\");\n",
              "        content.style.fontFamily = \"monospace\";\n",
              "        content.style.whiteSpace = \"pre-wrap\";\n",
              "        content.style.backgroundColor = \"rgb(255, 221, 221)\";\n",
              "        content.textContent = error.stack ?? error.toString();\n",
              "        wrapper.append(content);\n",
              "        el.append(wrapper);\n",
              "      }\n",
              "    } else if (Date.now() < root._bokeh_timeout) {\n",
              "      setTimeout(() => display_loaded(error), 100);\n",
              "    }\n",
              "  }\n",
              "\n",
              "  function run_callbacks() {\n",
              "    try {\n",
              "      root._bokeh_onload_callbacks.forEach(function(callback) {\n",
              "        if (callback != null)\n",
              "          callback();\n",
              "      });\n",
              "    } finally {\n",
              "      delete root._bokeh_onload_callbacks\n",
              "    }\n",
              "    console.debug(\"Bokeh: all callbacks have finished\");\n",
              "  }\n",
              "\n",
              "  function load_libs(css_urls, js_urls, callback) {\n",
              "    if (css_urls == null) css_urls = [];\n",
              "    if (js_urls == null) js_urls = [];\n",
              "\n",
              "    root._bokeh_onload_callbacks.push(callback);\n",
              "    if (root._bokeh_is_loading > 0) {\n",
              "      console.debug(\"Bokeh: BokehJS is being loaded, scheduling callback at\", now());\n",
              "      return null;\n",
              "    }\n",
              "    if (js_urls == null || js_urls.length === 0) {\n",
              "      run_callbacks();\n",
              "      return null;\n",
              "    }\n",
              "    console.debug(\"Bokeh: BokehJS not loaded, scheduling load and callback at\", now());\n",
              "    root._bokeh_is_loading = css_urls.length + js_urls.length;\n",
              "\n",
              "    function on_load() {\n",
              "      root._bokeh_is_loading--;\n",
              "      if (root._bokeh_is_loading === 0) {\n",
              "        console.debug(\"Bokeh: all BokehJS libraries/stylesheets loaded\");\n",
              "        run_callbacks()\n",
              "      }\n",
              "    }\n",
              "\n",
              "    function on_error(url) {\n",
              "      console.error(\"failed to load \" + url);\n",
              "    }\n",
              "\n",
              "    for (let i = 0; i < css_urls.length; i++) {\n",
              "      const url = css_urls[i];\n",
              "      const element = document.createElement(\"link\");\n",
              "      element.onload = on_load;\n",
              "      element.onerror = on_error.bind(null, url);\n",
              "      element.rel = \"stylesheet\";\n",
              "      element.type = \"text/css\";\n",
              "      element.href = url;\n",
              "      console.debug(\"Bokeh: injecting link tag for BokehJS stylesheet: \", url);\n",
              "      document.body.appendChild(element);\n",
              "    }\n",
              "\n",
              "    for (let i = 0; i < js_urls.length; i++) {\n",
              "      const url = js_urls[i];\n",
              "      const element = document.createElement('script');\n",
              "      element.onload = on_load;\n",
              "      element.onerror = on_error.bind(null, url);\n",
              "      element.async = false;\n",
              "      element.src = url;\n",
              "      console.debug(\"Bokeh: injecting script tag for BokehJS library: \", url);\n",
              "      document.head.appendChild(element);\n",
              "    }\n",
              "  };\n",
              "\n",
              "  function inject_raw_css(css) {\n",
              "    const element = document.createElement(\"style\");\n",
              "    element.appendChild(document.createTextNode(css));\n",
              "    document.body.appendChild(element);\n",
              "  }\n",
              "\n",
              "  const js_urls = [\"https://cdn.bokeh.org/bokeh/release/bokeh-3.6.2.min.js\", \"https://cdn.bokeh.org/bokeh/release/bokeh-gl-3.6.2.min.js\", \"https://cdn.bokeh.org/bokeh/release/bokeh-widgets-3.6.2.min.js\", \"https://cdn.bokeh.org/bokeh/release/bokeh-tables-3.6.2.min.js\", \"https://cdn.bokeh.org/bokeh/release/bokeh-mathjax-3.6.2.min.js\"];\n",
              "  const css_urls = [];\n",
              "\n",
              "  const inline_js = [    function(Bokeh) {\n",
              "      Bokeh.set_log_level(\"info\");\n",
              "    },\n",
              "function(Bokeh) {\n",
              "    }\n",
              "  ];\n",
              "\n",
              "  function run_inline_js() {\n",
              "    if (root.Bokeh !== undefined || force === true) {\n",
              "      try {\n",
              "            for (let i = 0; i < inline_js.length; i++) {\n",
              "      inline_js[i].call(root, root.Bokeh);\n",
              "    }\n",
              "\n",
              "      } catch (error) {throw error;\n",
              "      }} else if (Date.now() < root._bokeh_timeout) {\n",
              "      setTimeout(run_inline_js, 100);\n",
              "    } else if (!root._bokeh_failed_load) {\n",
              "      console.log(\"Bokeh: BokehJS failed to load within specified timeout.\");\n",
              "      root._bokeh_failed_load = true;\n",
              "    } else if (force !== true) {\n",
              "      const cell = $(document.getElementById(null)).parents('.cell').data().cell;\n",
              "      cell.output_area.append_execute_result(NB_LOAD_WARNING)\n",
              "    }\n",
              "  }\n",
              "\n",
              "  if (root._bokeh_is_loading === 0) {\n",
              "    console.debug(\"Bokeh: BokehJS loaded, going straight to plotting\");\n",
              "    run_inline_js();\n",
              "  } else {\n",
              "    load_libs(css_urls, js_urls, function() {\n",
              "      console.debug(\"Bokeh: BokehJS plotting callback run at\", now());\n",
              "      run_inline_js();\n",
              "    });\n",
              "  }\n",
              "}(window));"
            ],
            "application/vnd.bokehjs_load.v0+json": "'use strict';\n(function(root) {\n  function now() {\n    return new Date();\n  }\n\n  const force = true;\n\n  if (typeof root._bokeh_onload_callbacks === \"undefined\" || force === true) {\n    root._bokeh_onload_callbacks = [];\n    root._bokeh_is_loading = undefined;\n  }\n\n\n  if (typeof (root._bokeh_timeout) === \"undefined\" || force === true) {\n    root._bokeh_timeout = Date.now() + 5000;\n    root._bokeh_failed_load = false;\n  }\n\n  const NB_LOAD_WARNING = {'data': {'text/html':\n     \"<div style='background-color: #fdd'>\\n\"+\n     \"<p>\\n\"+\n     \"BokehJS does not appear to have successfully loaded. If loading BokehJS from CDN, this \\n\"+\n     \"may be due to a slow or bad network connection. Possible fixes:\\n\"+\n     \"</p>\\n\"+\n     \"<ul>\\n\"+\n     \"<li>re-rerun `output_notebook()` to attempt to load from CDN again, or</li>\\n\"+\n     \"<li>use INLINE resources instead, as so:</li>\\n\"+\n     \"</ul>\\n\"+\n     \"<code>\\n\"+\n     \"from bokeh.resources import INLINE\\n\"+\n     \"output_notebook(resources=INLINE)\\n\"+\n     \"</code>\\n\"+\n     \"</div>\"}};\n\n  function display_loaded(error = null) {\n    const el = document.getElementById(null);\n    if (el != null) {\n      const html = (() => {\n        if (typeof root.Bokeh === \"undefined\") {\n          if (error == null) {\n            return \"BokehJS is loading ...\";\n          } else {\n            return \"BokehJS failed to load.\";\n          }\n        } else {\n          const prefix = `BokehJS ${root.Bokeh.version}`;\n          if (error == null) {\n            return `${prefix} successfully loaded.`;\n          } else {\n            return `${prefix} <b>encountered errors</b> while loading and may not function as expected.`;\n          }\n        }\n      })();\n      el.innerHTML = html;\n\n      if (error != null) {\n        const wrapper = document.createElement(\"div\");\n        wrapper.style.overflow = \"auto\";\n        wrapper.style.height = \"5em\";\n        wrapper.style.resize = \"vertical\";\n        const content = document.createElement(\"div\");\n        content.style.fontFamily = \"monospace\";\n        content.style.whiteSpace = \"pre-wrap\";\n        content.style.backgroundColor = \"rgb(255, 221, 221)\";\n        content.textContent = error.stack ?? error.toString();\n        wrapper.append(content);\n        el.append(wrapper);\n      }\n    } else if (Date.now() < root._bokeh_timeout) {\n      setTimeout(() => display_loaded(error), 100);\n    }\n  }\n\n  function run_callbacks() {\n    try {\n      root._bokeh_onload_callbacks.forEach(function(callback) {\n        if (callback != null)\n          callback();\n      });\n    } finally {\n      delete root._bokeh_onload_callbacks\n    }\n    console.debug(\"Bokeh: all callbacks have finished\");\n  }\n\n  function load_libs(css_urls, js_urls, callback) {\n    if (css_urls == null) css_urls = [];\n    if (js_urls == null) js_urls = [];\n\n    root._bokeh_onload_callbacks.push(callback);\n    if (root._bokeh_is_loading > 0) {\n      console.debug(\"Bokeh: BokehJS is being loaded, scheduling callback at\", now());\n      return null;\n    }\n    if (js_urls == null || js_urls.length === 0) {\n      run_callbacks();\n      return null;\n    }\n    console.debug(\"Bokeh: BokehJS not loaded, scheduling load and callback at\", now());\n    root._bokeh_is_loading = css_urls.length + js_urls.length;\n\n    function on_load() {\n      root._bokeh_is_loading--;\n      if (root._bokeh_is_loading === 0) {\n        console.debug(\"Bokeh: all BokehJS libraries/stylesheets loaded\");\n        run_callbacks()\n      }\n    }\n\n    function on_error(url) {\n      console.error(\"failed to load \" + url);\n    }\n\n    for (let i = 0; i < css_urls.length; i++) {\n      const url = css_urls[i];\n      const element = document.createElement(\"link\");\n      element.onload = on_load;\n      element.onerror = on_error.bind(null, url);\n      element.rel = \"stylesheet\";\n      element.type = \"text/css\";\n      element.href = url;\n      console.debug(\"Bokeh: injecting link tag for BokehJS stylesheet: \", url);\n      document.body.appendChild(element);\n    }\n\n    for (let i = 0; i < js_urls.length; i++) {\n      const url = js_urls[i];\n      const element = document.createElement('script');\n      element.onload = on_load;\n      element.onerror = on_error.bind(null, url);\n      element.async = false;\n      element.src = url;\n      console.debug(\"Bokeh: injecting script tag for BokehJS library: \", url);\n      document.head.appendChild(element);\n    }\n  };\n\n  function inject_raw_css(css) {\n    const element = document.createElement(\"style\");\n    element.appendChild(document.createTextNode(css));\n    document.body.appendChild(element);\n  }\n\n  const js_urls = [\"https://cdn.bokeh.org/bokeh/release/bokeh-3.6.2.min.js\", \"https://cdn.bokeh.org/bokeh/release/bokeh-gl-3.6.2.min.js\", \"https://cdn.bokeh.org/bokeh/release/bokeh-widgets-3.6.2.min.js\", \"https://cdn.bokeh.org/bokeh/release/bokeh-tables-3.6.2.min.js\", \"https://cdn.bokeh.org/bokeh/release/bokeh-mathjax-3.6.2.min.js\"];\n  const css_urls = [];\n\n  const inline_js = [    function(Bokeh) {\n      Bokeh.set_log_level(\"info\");\n    },\nfunction(Bokeh) {\n    }\n  ];\n\n  function run_inline_js() {\n    if (root.Bokeh !== undefined || force === true) {\n      try {\n            for (let i = 0; i < inline_js.length; i++) {\n      inline_js[i].call(root, root.Bokeh);\n    }\n\n      } catch (error) {throw error;\n      }} else if (Date.now() < root._bokeh_timeout) {\n      setTimeout(run_inline_js, 100);\n    } else if (!root._bokeh_failed_load) {\n      console.log(\"Bokeh: BokehJS failed to load within specified timeout.\");\n      root._bokeh_failed_load = true;\n    } else if (force !== true) {\n      const cell = $(document.getElementById(null)).parents('.cell').data().cell;\n      cell.output_area.append_execute_result(NB_LOAD_WARNING)\n    }\n  }\n\n  if (root._bokeh_is_loading === 0) {\n    console.debug(\"Bokeh: BokehJS loaded, going straight to plotting\");\n    run_inline_js();\n  } else {\n    load_libs(css_urls, js_urls, function() {\n      console.debug(\"Bokeh: BokehJS plotting callback run at\", now());\n      run_inline_js();\n    });\n  }\n}(window));"
          },
          "metadata": {}
        },
        {
          "output_type": "stream",
          "name": "stderr",
          "text": [
            "ERROR:bokeh.core.validation.check:E-1001 (BAD_COLUMN_NAME): Glyph refers to nonexistent column name. This could either be due to a misspelling or typo, or due to an expected column being missing. : marker='x,' [closest match: 'x'] {renderer: GlyphRenderer(id='p1458', ...)}\n"
          ]
        },
        {
          "output_type": "display_data",
          "data": {
            "text/html": [
              "\n",
              "  <div id=\"ad0deb23-f739-48d6-b3f2-9b0908ac5418\" data-root-id=\"p1407\" style=\"display: contents;\"></div>\n"
            ]
          },
          "metadata": {}
        },
        {
          "output_type": "display_data",
          "data": {
            "application/javascript": [
              "(function(root) {\n",
              "  function embed_document(root) {\n",
              "  const docs_json = {\"6de1af9b-f262-44e1-85b5-b5e000588a16\":{\"version\":\"3.6.2\",\"title\":\"Bokeh Application\",\"roots\":[{\"type\":\"object\",\"name\":\"Figure\",\"id\":\"p1407\",\"attributes\":{\"x_range\":{\"type\":\"object\",\"name\":\"DataRange1d\",\"id\":\"p1408\",\"attributes\":{\"start\":-2.5422462471126526,\"end\":3.2468399088648487}},\"y_range\":{\"type\":\"object\",\"name\":\"DataRange1d\",\"id\":\"p1409\",\"attributes\":{\"start\":-0.21403791617427648,\"end\":5.279175025064285}},\"x_scale\":{\"type\":\"object\",\"name\":\"LinearScale\",\"id\":\"p1416\"},\"y_scale\":{\"type\":\"object\",\"name\":\"LinearScale\",\"id\":\"p1417\"},\"title\":{\"type\":\"object\",\"name\":\"Title\",\"id\":\"p1414\"},\"renderers\":[{\"type\":\"object\",\"name\":\"GlyphRenderer\",\"id\":\"p1447\",\"attributes\":{\"data_source\":{\"type\":\"object\",\"name\":\"ColumnDataSource\",\"id\":\"p1441\",\"attributes\":{\"selected\":{\"type\":\"object\",\"name\":\"Selection\",\"id\":\"p1442\",\"attributes\":{\"indices\":[],\"line_indices\":[]}},\"selection_policy\":{\"type\":\"object\",\"name\":\"UnionRenderers\",\"id\":\"p1443\"},\"data\":{\"type\":\"map\",\"entries\":[[\"x\",{\"type\":\"ndarray\",\"array\":{\"type\":\"bytes\",\"data\":\"CmCDVJU49z/a6eDv0ZbtP69okbDNxfA/FfUaUmi19T9JCVuK1SvzPy6HXRqtkvs/wOxWA/cf8j+o/uUz4jbTv6teU+YqifY/JkA7PqHjAEDLoOIHCPnvP3T+Yx/v4fs/TXgmcyLc8D87o27rOwnhP8+q+WqOrOk/Mh+pA3B2+T/iXJMkHQvpP5ohOIx27dw/AMb7NcaFvz+FH56zERbnP2QTWzNPZNY/cKwfy1CsxT+PpL0AxungPwCqZb1YEec/TMUciivK7j/OxyyOByfwPySe9dJrF+U/TqN83DR75D/siWkS9TriPxU2asUrCvE/LDwoiz+hxD/KnEF1T7ngPxq6ec76c/U/6PTfeku8+D8eJKxEzNbyP2N6msHRTuE/fuNlPXxB6j9GlTctTTLZPwSsY5p6WPM/ySXbI76G+z9OUZFb8Qz5PwYba36aN9w/TnHREzHK6D/1DBJyWUnxP7nJ4P+jePI/BhxH0Zxo7z+wwnPct6LwPzYZwa9+r/4/CikJV2XT1T8MhHZm+/DYP1drdrpIk/0/yAcY0EciCECPN3J5kekHQPcUk+eV/vk/R7vFPoG9/j8zUqOELDsEQP3RG1IB5gJA9HPvyqXyAUBxNztylaIBQO4rPprmU/s/N01GaS5n/T+GPpMiniEDQLcaDnCWufo/oy2wrFd9+z8k8lG6Kcz7P2rS2uudvwJAyDHI4bIGAkB2tFy8R/T0PyGfF47cGwFAjmC/M4f5CUAymyZ16pT5P8Csa7tlW/Y/V0yM+E4rAEDleC8uHu36P9E3FlxfDABAbncI8tzyBEA5CdcmXLT3PzTNUMJn5vw/2zv4EGU9BEAOgSsPrxT3Pzxm4Urv4fg/Hv3r+roxBUAIK7q2JSAEQDQEKhqV3gNACazkFT+c+D/xBoom/nT6PxhjqvhxPf0/DdTSb2UN/j/kMZfKPrz7PxUNk8Vs8QJAk5+oQ5kM+D8RtDoxwPf6Px0BRNWaivY/s1raV/ZIAEBNqGfvBYkCQMb6S1yAhwNAKHNHbFcYCUB8cc+WSu79P9LzbEM91wRAqpevvK4AA0AHkDTMBKD4v5bQXMvpMPa/C5PwBScm8b9jM4WWzCPyvy6yvr1s/P+/5uZVgA6R+L849WFTiWzZvyrrjrL8CQDAagF8taQj/L88nNIk4GACwARWHWesLfe/IFy7jIA1/b/PuGV5VukBwGC1/Kj6xfy/suQavQfXAMDq7e0t/fLov7IYrJA4BfW/LMJefKuH/b/HyEaYVn75v1t8r7EO5/q/uCQPlXJs7r+o2PYF+O/+v2gJM9cOQ/S/7X7+j3pL979JmhBv7eXyvyQ5o+Y4PP6/teYnQQeMAsBVRcbFffgAwGAIeTJzM/2/9Gqvldn1A8C6ax4gRT30vxN/sMrk6vq/cM4tsfM89b8H7cAZ+5Dhv0SQtuRUpv2/aqN7AwR79L8U0k0zhVYEwAc+7AqWUPm/lDFKVYT3/b+CCrVXxCP2v+zkhVlwZQDAaMxHhHPp8r8iMEyshXT9v+B7khkc/9e/CDkBs5+E+b8LAezfDqb3vyCINzxFoPu/zIxVoPtwAcB51LnkMmD5v846zz9yGfO/\"},\"shape\":[150],\"dtype\":\"float64\",\"order\":\"little\"}],[\"y\",{\"type\":\"ndarray\",\"array\":{\"type\":\"bytes\",\"data\":\"7wNKVZXpEEBLi/T9TQkSQL8C8Y+qHxRAZ3mCNmB1EUCvfvhi6+ERQFWQboUJzhBAQtMS+o8DD0CWRCgfu4USQAUed/Etdg9AfVWf0OKcDEBv66x2PdcQQALyXtFjJxRAUtn9irL4EUCibBYk0oEKQDxzS/8ghxFABB5RW7KeE0CA5VqZTJwQQOn4Qt4OwAxAWgvKDuAdFUBNCxTAyFYQQMXTtz0nxRJA1TItuyfKEECtaf8bLP0RQFT/NGgwtQ1AetgQV2ISEkC60iqf8dERQDyqp9BafRBAG1dVrPx+EECi939scYYLQJT6VstdaRBA/J8q0gUkEkCQkLGcrFERQFY2wBIeeRFAfPDX3rF9DUAkZ6Ax6bAPQJJkugq1DhBAP2mZutVTEUB4/4onTQQTQOimRfwKSQxAkhrhAsYBFUBEN8bq9NoQQIkUNh/1UhNA3DduWPioE0CVtZQOHisTQCaNxPvXoBJAEcF9pHHJFEBy/TOT5QQSQKmpWBkNCg1ABhleymgnE0BYrFlXNhoVQG+zofYVxOA/on93tew0+j+D7GPpaJz1PwY6OrSkpP0/aiYn1ELI9D/ttsFGvT7qP44bGHaCvfU/4j93tgdF1j90B2XHRPn4PxLEtvPBVOo/Ddf/WR8o/T8ODMzrT5/xP9PMK3M2rfI/I4s05gk87T+in+FtKsbzP7SiVxB4ZOk/DPx+JvZ41j+oYLxdtODxP/Dsju5fcfM/iMrG1B/r9T8toDfOekz3P4d055kCV+U/bHJGmcER/D/rNJkLIwHfP542b7sNHOI/+oXEwYXk1j+BWGyMWbjlP9KtQRKDzP0/+kovRUUg7j/9ozDyFR71P1ALAfgcCcA/HEQrx+3l8D9ooFGnlenwP6JixlMPT+I/zhONZbzQ8z/kS8HKQ7HhP9uzzV1BAe0/tCtq2XDnyj/oRwktmGXLv0girHMPvbg/5WueMFSP7T/aCSib7LT6P36k1SLAf/A/uG4gqkwS1D9UJCLGAfvpPz4Db+pd8/Q/+gKsIgoO+T8iNBfhKeXoP5aGEXvPmvM/uH+Mtd7Utj/KIcZHFGQEQBKciR5R8wZAhs2/gaecCED9MPWvNXoFQAzgl5buswVA1sHxARPcCECAaj4yjSwHQId4wZuJ9QVAXvttItxECUAIt0BompgHQOr1RIWTRQhAgiOv5jBkBkB0AbrOqV4FQIDNqK3bAQlAfDPaDMV3CkD67FIAUSD+P9Fz8wj6DApADmCHOwTBBUBruQ+Q4iYGQDRmL1CYowBAVtfzMFqpC0DoJuhQNHoBQMXsIEs3CgVAb79eoNQQBkCSvXv5Ph8KQId8JBhCzwFADbVt8tnICUD93uTJ11AFQFXEJnT+IQdA/bDd1CEZCEAXcID5XbIHQCcIM4aPuwdAqTzwMmCB+D9iXW1HR+cIQJ5EzZJ8xwVAQa07tO7gBkBAfVkS3ZkPQPZldM96bAtAwUZ5rhJ9DUC4zsVpR8cJQNSZNyAJMAxABaVB1emMDEDn6zZIQGsFQD61AN5dGgNA1veF5//jC0D+huZ2xKwJQA4G8JXC0ghAD9r1qb/5DUBzjxkFUp8EQPo3IroLgAVA\"},\"shape\":[150],\"dtype\":\"float64\",\"order\":\"little\"}]]}}},\"view\":{\"type\":\"object\",\"name\":\"CDSView\",\"id\":\"p1448\",\"attributes\":{\"filter\":{\"type\":\"object\",\"name\":\"AllIndices\",\"id\":\"p1449\"}}},\"glyph\":{\"type\":\"object\",\"name\":\"Scatter\",\"id\":\"p1444\",\"attributes\":{\"x\":{\"type\":\"field\",\"field\":\"x\"},\"y\":{\"type\":\"field\",\"field\":\"y\"},\"size\":{\"type\":\"value\",\"value\":5},\"line_color\":{\"type\":\"value\",\"value\":\"#1f77b4\"},\"fill_color\":{\"type\":\"value\",\"value\":\"#1f77b4\"}}},\"nonselection_glyph\":{\"type\":\"object\",\"name\":\"Scatter\",\"id\":\"p1445\",\"attributes\":{\"x\":{\"type\":\"field\",\"field\":\"x\"},\"y\":{\"type\":\"field\",\"field\":\"y\"},\"size\":{\"type\":\"value\",\"value\":5},\"line_color\":{\"type\":\"value\",\"value\":\"#1f77b4\"},\"line_alpha\":{\"type\":\"value\",\"value\":0.1},\"fill_color\":{\"type\":\"value\",\"value\":\"#1f77b4\"},\"fill_alpha\":{\"type\":\"value\",\"value\":0.1},\"hatch_alpha\":{\"type\":\"value\",\"value\":0.1}}},\"muted_glyph\":{\"type\":\"object\",\"name\":\"Scatter\",\"id\":\"p1446\",\"attributes\":{\"x\":{\"type\":\"field\",\"field\":\"x\"},\"y\":{\"type\":\"field\",\"field\":\"y\"},\"size\":{\"type\":\"value\",\"value\":5},\"line_color\":{\"type\":\"value\",\"value\":\"#1f77b4\"},\"line_alpha\":{\"type\":\"value\",\"value\":0.2},\"fill_color\":{\"type\":\"value\",\"value\":\"#1f77b4\"},\"fill_alpha\":{\"type\":\"value\",\"value\":0.2},\"hatch_alpha\":{\"type\":\"value\",\"value\":0.2}}}}},{\"type\":\"object\",\"name\":\"GlyphRenderer\",\"id\":\"p1458\",\"attributes\":{\"data_source\":{\"type\":\"object\",\"name\":\"ColumnDataSource\",\"id\":\"p1452\",\"attributes\":{\"selected\":{\"type\":\"object\",\"name\":\"Selection\",\"id\":\"p1453\",\"attributes\":{\"indices\":[],\"line_indices\":[]}},\"selection_policy\":{\"type\":\"object\",\"name\":\"UnionRenderers\",\"id\":\"p1454\"},\"data\":{\"type\":\"map\",\"entries\":[[\"x\",{\"type\":\"ndarray\",\"array\":{\"type\":\"bytes\",\"data\":\"CgAAAPb///8BAAAA\"},\"shape\":[3],\"dtype\":\"int32\",\"order\":\"little\"}],[\"y\",{\"type\":\"ndarray\",\"array\":{\"type\":\"bytes\",\"data\":\"AgAAAAMAAAD9////\"},\"shape\":[3],\"dtype\":\"int32\",\"order\":\"little\"}]]}}},\"view\":{\"type\":\"object\",\"name\":\"CDSView\",\"id\":\"p1459\",\"attributes\":{\"filter\":{\"type\":\"object\",\"name\":\"AllIndices\",\"id\":\"p1460\"}}},\"glyph\":{\"type\":\"object\",\"name\":\"Scatter\",\"id\":\"p1455\",\"attributes\":{\"x\":{\"type\":\"field\",\"field\":\"x\"},\"y\":{\"type\":\"field\",\"field\":\"y\"},\"size\":{\"type\":\"value\",\"value\":20},\"line_color\":{\"type\":\"value\",\"value\":\"red\"},\"fill_color\":{\"type\":\"value\",\"value\":\"red\"},\"hatch_color\":{\"type\":\"value\",\"value\":\"red\"},\"marker\":{\"type\":\"field\",\"field\":\"x,\"}}},\"nonselection_glyph\":{\"type\":\"object\",\"name\":\"Scatter\",\"id\":\"p1456\",\"attributes\":{\"x\":{\"type\":\"field\",\"field\":\"x\"},\"y\":{\"type\":\"field\",\"field\":\"y\"},\"size\":{\"type\":\"value\",\"value\":20},\"line_color\":{\"type\":\"value\",\"value\":\"red\"},\"line_alpha\":{\"type\":\"value\",\"value\":0.1},\"fill_color\":{\"type\":\"value\",\"value\":\"red\"},\"fill_alpha\":{\"type\":\"value\",\"value\":0.1},\"hatch_color\":{\"type\":\"value\",\"value\":\"red\"},\"hatch_alpha\":{\"type\":\"value\",\"value\":0.1},\"marker\":{\"type\":\"field\",\"field\":\"x,\"}}},\"muted_glyph\":{\"type\":\"object\",\"name\":\"Scatter\",\"id\":\"p1457\",\"attributes\":{\"x\":{\"type\":\"field\",\"field\":\"x\"},\"y\":{\"type\":\"field\",\"field\":\"y\"},\"size\":{\"type\":\"value\",\"value\":20},\"line_color\":{\"type\":\"value\",\"value\":\"red\"},\"line_alpha\":{\"type\":\"value\",\"value\":0.2},\"fill_color\":{\"type\":\"value\",\"value\":\"red\"},\"fill_alpha\":{\"type\":\"value\",\"value\":0.2},\"hatch_color\":{\"type\":\"value\",\"value\":\"red\"},\"hatch_alpha\":{\"type\":\"value\",\"value\":0.2},\"marker\":{\"type\":\"field\",\"field\":\"x,\"}}}}},{\"type\":\"object\",\"name\":\"GlyphRenderer\",\"id\":\"p1471\",\"attributes\":{\"data_source\":{\"type\":\"object\",\"name\":\"ColumnDataSource\",\"id\":\"p1465\",\"attributes\":{\"selected\":{\"type\":\"object\",\"name\":\"Selection\",\"id\":\"p1466\",\"attributes\":{\"indices\":[],\"line_indices\":[]}},\"selection_policy\":{\"type\":\"object\",\"name\":\"UnionRenderers\",\"id\":\"p1467\"},\"data\":{\"type\":\"map\",\"entries\":[[\"x\",{\"type\":\"ndarray\",\"array\":{\"type\":\"bytes\",\"data\":\"CgAAAPb///8BAAAA\"},\"shape\":[3],\"dtype\":\"int32\",\"order\":\"little\"}],[\"y\",{\"type\":\"ndarray\",\"array\":{\"type\":\"bytes\",\"data\":\"AgAAAAMAAAD9////\"},\"shape\":[3],\"dtype\":\"int32\",\"order\":\"little\"}]]}}},\"view\":{\"type\":\"object\",\"name\":\"CDSView\",\"id\":\"p1472\",\"attributes\":{\"filter\":{\"type\":\"object\",\"name\":\"AllIndices\",\"id\":\"p1473\"}}},\"glyph\":{\"type\":\"object\",\"name\":\"Scatter\",\"id\":\"p1468\",\"attributes\":{\"x\":{\"type\":\"field\",\"field\":\"x\"},\"y\":{\"type\":\"field\",\"field\":\"y\"},\"size\":{\"type\":\"value\",\"value\":20},\"line_color\":{\"type\":\"value\",\"value\":\"red\"},\"fill_color\":{\"type\":\"value\",\"value\":\"red\"},\"hatch_color\":{\"type\":\"value\",\"value\":\"red\"},\"marker\":{\"type\":\"value\",\"value\":\"x\"}}},\"nonselection_glyph\":{\"type\":\"object\",\"name\":\"Scatter\",\"id\":\"p1469\",\"attributes\":{\"x\":{\"type\":\"field\",\"field\":\"x\"},\"y\":{\"type\":\"field\",\"field\":\"y\"},\"size\":{\"type\":\"value\",\"value\":20},\"line_color\":{\"type\":\"value\",\"value\":\"red\"},\"line_alpha\":{\"type\":\"value\",\"value\":0.1},\"fill_color\":{\"type\":\"value\",\"value\":\"red\"},\"fill_alpha\":{\"type\":\"value\",\"value\":0.1},\"hatch_color\":{\"type\":\"value\",\"value\":\"red\"},\"hatch_alpha\":{\"type\":\"value\",\"value\":0.1},\"marker\":{\"type\":\"value\",\"value\":\"x\"}}},\"muted_glyph\":{\"type\":\"object\",\"name\":\"Scatter\",\"id\":\"p1470\",\"attributes\":{\"x\":{\"type\":\"field\",\"field\":\"x\"},\"y\":{\"type\":\"field\",\"field\":\"y\"},\"size\":{\"type\":\"value\",\"value\":20},\"line_color\":{\"type\":\"value\",\"value\":\"red\"},\"line_alpha\":{\"type\":\"value\",\"value\":0.2},\"fill_color\":{\"type\":\"value\",\"value\":\"red\"},\"fill_alpha\":{\"type\":\"value\",\"value\":0.2},\"hatch_color\":{\"type\":\"value\",\"value\":\"red\"},\"hatch_alpha\":{\"type\":\"value\",\"value\":0.2},\"marker\":{\"type\":\"value\",\"value\":\"x\"}}}}},{\"type\":\"object\",\"name\":\"GlyphRenderer\",\"id\":\"p1486\",\"attributes\":{\"data_source\":{\"type\":\"object\",\"name\":\"ColumnDataSource\",\"id\":\"p1480\",\"attributes\":{\"selected\":{\"type\":\"object\",\"name\":\"Selection\",\"id\":\"p1481\",\"attributes\":{\"indices\":[],\"line_indices\":[]}},\"selection_policy\":{\"type\":\"object\",\"name\":\"UnionRenderers\",\"id\":\"p1482\"},\"data\":{\"type\":\"map\",\"entries\":[[\"x\",{\"type\":\"ndarray\",\"array\":{\"type\":\"bytes\",\"data\":\"CgAAAPb///8BAAAA\"},\"shape\":[3],\"dtype\":\"int32\",\"order\":\"little\"}],[\"y\",{\"type\":\"ndarray\",\"array\":{\"type\":\"bytes\",\"data\":\"AgAAAAMAAAD9////\"},\"shape\":[3],\"dtype\":\"int32\",\"order\":\"little\"}]]}}},\"view\":{\"type\":\"object\",\"name\":\"CDSView\",\"id\":\"p1487\",\"attributes\":{\"filter\":{\"type\":\"object\",\"name\":\"AllIndices\",\"id\":\"p1488\"}}},\"glyph\":{\"type\":\"object\",\"name\":\"Scatter\",\"id\":\"p1483\",\"attributes\":{\"x\":{\"type\":\"field\",\"field\":\"x\"},\"y\":{\"type\":\"field\",\"field\":\"y\"},\"size\":{\"type\":\"value\",\"value\":20},\"line_color\":{\"type\":\"value\",\"value\":\"red\"},\"fill_color\":{\"type\":\"value\",\"value\":\"red\"},\"hatch_color\":{\"type\":\"value\",\"value\":\"red\"},\"marker\":{\"type\":\"value\",\"value\":\"x\"}}},\"nonselection_glyph\":{\"type\":\"object\",\"name\":\"Scatter\",\"id\":\"p1484\",\"attributes\":{\"x\":{\"type\":\"field\",\"field\":\"x\"},\"y\":{\"type\":\"field\",\"field\":\"y\"},\"size\":{\"type\":\"value\",\"value\":20},\"line_color\":{\"type\":\"value\",\"value\":\"red\"},\"line_alpha\":{\"type\":\"value\",\"value\":0.1},\"fill_color\":{\"type\":\"value\",\"value\":\"red\"},\"fill_alpha\":{\"type\":\"value\",\"value\":0.1},\"hatch_color\":{\"type\":\"value\",\"value\":\"red\"},\"hatch_alpha\":{\"type\":\"value\",\"value\":0.1},\"marker\":{\"type\":\"value\",\"value\":\"x\"}}},\"muted_glyph\":{\"type\":\"object\",\"name\":\"Scatter\",\"id\":\"p1485\",\"attributes\":{\"x\":{\"type\":\"field\",\"field\":\"x\"},\"y\":{\"type\":\"field\",\"field\":\"y\"},\"size\":{\"type\":\"value\",\"value\":20},\"line_color\":{\"type\":\"value\",\"value\":\"red\"},\"line_alpha\":{\"type\":\"value\",\"value\":0.2},\"fill_color\":{\"type\":\"value\",\"value\":\"red\"},\"fill_alpha\":{\"type\":\"value\",\"value\":0.2},\"hatch_color\":{\"type\":\"value\",\"value\":\"red\"},\"hatch_alpha\":{\"type\":\"value\",\"value\":0.2},\"marker\":{\"type\":\"value\",\"value\":\"x\"}}}}}],\"toolbar\":{\"type\":\"object\",\"name\":\"Toolbar\",\"id\":\"p1415\",\"attributes\":{\"tools\":[{\"type\":\"object\",\"name\":\"PanTool\",\"id\":\"p1428\"},{\"type\":\"object\",\"name\":\"WheelZoomTool\",\"id\":\"p1429\",\"attributes\":{\"renderers\":\"auto\"}},{\"type\":\"object\",\"name\":\"BoxZoomTool\",\"id\":\"p1430\",\"attributes\":{\"overlay\":{\"type\":\"object\",\"name\":\"BoxAnnotation\",\"id\":\"p1431\",\"attributes\":{\"syncable\":false,\"line_color\":\"black\",\"line_alpha\":1.0,\"line_width\":2,\"line_dash\":[4,4],\"fill_color\":\"lightgrey\",\"fill_alpha\":0.5,\"level\":\"overlay\",\"visible\":false,\"left\":{\"type\":\"number\",\"value\":\"nan\"},\"right\":{\"type\":\"number\",\"value\":\"nan\"},\"top\":{\"type\":\"number\",\"value\":\"nan\"},\"bottom\":{\"type\":\"number\",\"value\":\"nan\"},\"left_units\":\"canvas\",\"right_units\":\"canvas\",\"top_units\":\"canvas\",\"bottom_units\":\"canvas\",\"handles\":{\"type\":\"object\",\"name\":\"BoxInteractionHandles\",\"id\":\"p1437\",\"attributes\":{\"all\":{\"type\":\"object\",\"name\":\"AreaVisuals\",\"id\":\"p1436\",\"attributes\":{\"fill_color\":\"white\",\"hover_fill_color\":\"lightgray\"}}}}}}}},{\"type\":\"object\",\"name\":\"SaveTool\",\"id\":\"p1438\"},{\"type\":\"object\",\"name\":\"ResetTool\",\"id\":\"p1439\"},{\"type\":\"object\",\"name\":\"HelpTool\",\"id\":\"p1440\"}]}},\"left\":[{\"type\":\"object\",\"name\":\"LinearAxis\",\"id\":\"p1423\",\"attributes\":{\"ticker\":{\"type\":\"object\",\"name\":\"BasicTicker\",\"id\":\"p1424\",\"attributes\":{\"mantissas\":[1,2,5]}},\"formatter\":{\"type\":\"object\",\"name\":\"BasicTickFormatter\",\"id\":\"p1425\"},\"major_label_policy\":{\"type\":\"object\",\"name\":\"AllLabels\",\"id\":\"p1426\"}}}],\"below\":[{\"type\":\"object\",\"name\":\"LinearAxis\",\"id\":\"p1418\",\"attributes\":{\"ticker\":{\"type\":\"object\",\"name\":\"BasicTicker\",\"id\":\"p1419\",\"attributes\":{\"mantissas\":[1,2,5]}},\"formatter\":{\"type\":\"object\",\"name\":\"BasicTickFormatter\",\"id\":\"p1420\"},\"major_label_policy\":{\"type\":\"object\",\"name\":\"AllLabels\",\"id\":\"p1421\"}}}],\"center\":[{\"type\":\"object\",\"name\":\"Grid\",\"id\":\"p1422\",\"attributes\":{\"axis\":{\"id\":\"p1418\"}}},{\"type\":\"object\",\"name\":\"Grid\",\"id\":\"p1427\",\"attributes\":{\"dimension\":1,\"axis\":{\"id\":\"p1423\"}}}]}}]}};\n",
              "  const render_items = [{\"docid\":\"6de1af9b-f262-44e1-85b5-b5e000588a16\",\"roots\":{\"p1407\":\"ad0deb23-f739-48d6-b3f2-9b0908ac5418\"},\"root_ids\":[\"p1407\"]}];\n",
              "  void root.Bokeh.embed.embed_items_notebook(docs_json, render_items);\n",
              "  }\n",
              "  if (root.Bokeh !== undefined) {\n",
              "    embed_document(root);\n",
              "  } else {\n",
              "    let attempts = 0;\n",
              "    const timer = setInterval(function(root) {\n",
              "      if (root.Bokeh !== undefined) {\n",
              "        clearInterval(timer);\n",
              "        embed_document(root);\n",
              "      } else {\n",
              "        attempts++;\n",
              "        if (attempts > 100) {\n",
              "          clearInterval(timer);\n",
              "          console.log(\"Bokeh: ERROR: Unable to run BokehJS code because BokehJS library is missing\");\n",
              "        }\n",
              "      }\n",
              "    }, 10, root)\n",
              "  }\n",
              "})(window);"
            ],
            "application/vnd.bokehjs_exec.v0+json": ""
          },
          "metadata": {
            "application/vnd.bokehjs_exec.v0+json": {
              "id": "p1407"
            }
          }
        }
      ]
    },
    {
      "cell_type": "markdown",
      "metadata": {
        "id": "DyR9EAFsbyGF"
      },
      "source": [
        "Now that we have our initial locations for our centroids, lets watch as K-Means moves the centroids towards the centers of our clusters, gradually assigning the data points in each cluster to the corresponding centroid."
      ]
    },
    {
      "cell_type": "code",
      "metadata": {
        "id": "rM0MDNBlwLH1",
        "colab": {
          "base_uri": "https://localhost:8080/",
          "height": 649,
          "referenced_widgets": [
            "92148a215fc1492388562abe5271271d",
            "99be67f47105438e924afc224bd89dab",
            "1cd54a403f684d8585928556a92dc7d4"
          ]
        },
        "outputId": "f0ed7e86-7f16-41ab-df8c-5b87e77137bf"
      },
      "source": [
        "#@title K-Means Steps on Above Data { display-mode: \"form\" }\n",
        "\n",
        "from sklearn.cluster import KMeans\n",
        "from ipywidgets import Button\n",
        "from IPython.display import display\n",
        "\n",
        "pred_plot = figure()\n",
        "\n",
        "# An array holding the each centroid's renderers\n",
        "centroids = []\n",
        "\n",
        "# Colours and shapes to distinguish the centroids and their clusters\n",
        "# NOTE: This will need to be updated to plot more than 3 clusters\n",
        "colors = ('green', 'purple', 'blue')\n",
        "shapes = ('triangle', 'square', 'circle')\n",
        "\n",
        "for i in range(n_clusters):\n",
        "  centroid_label = 'Centroid ' + str(i + 1)\n",
        "\n",
        "  initial_x = [init[i, 0]]\n",
        "  initial_y = [init[i, 1]]\n",
        "\n",
        "  # Add X markers for the centroid locations\n",
        "  centers = pred_plot.scatter(initial_x, initial_y, marker='x',\n",
        "                      color=colors[i], size=20, width=3,\n",
        "                      legend_label=centroid_label)\n",
        "\n",
        "  # Add lines for the centroid movement\n",
        "  line = pred_plot.line(x=initial_x, y=initial_y, color=colors[i])\n",
        "\n",
        "  # Add a scatter for the centroid's cluster\n",
        "  cluster = pred_plot.scatter([], [], color=colors[i], marker=shapes[i],\n",
        "                             legend_label=centroid_label + ' cluster')\n",
        "\n",
        "  centroids.append((centers, line, cluster))\n",
        "\n",
        "def get_cluster(pred, label):\n",
        "  \"\"\"Get the `X` values corresponding to a given centroid's cluster.\n",
        "\n",
        "  :param: pred The predicted labels for each sample\n",
        "  :param: label The label for the desired cluster\n",
        "  :return: A tuple of length 2 whose first item contains the x coordinates of\n",
        "    the values and whose second item contains the y.\n",
        "  \"\"\"\n",
        "  indices = pred == label\n",
        "  return X_practice[indices, 0], X_practice[indices, 1]\n",
        "\n",
        "# Plot out the initial data points\n",
        "initial_data = pred_plot.circle(x=x1, y=x2)\n",
        "\n",
        "pred_plot.legend.location = 'bottom_left'\n",
        "\n",
        "# Show the plot and retrieve the notebook handle for the plot so we can update\n",
        "# it later\n",
        "handle = show(pred_plot, notebook_handle=True)\n",
        "\n",
        "# Remove the initial data as it will be replaced with the clusters the next time\n",
        "# the plot is updated\n",
        "initial_data.data_source.data.update({'x': [], 'y': []})\n",
        "\n",
        "# The total number of iterations for the current run of k-means\n",
        "max_iter = 1\n",
        "\n",
        "# The button widget takes care of telling the notebook to redraw the plot\n",
        "button = Button(description='Next')\n",
        "\n",
        "def on_button_click(_):\n",
        "  # Allows us to access and update max_iter from within the function\n",
        "  global max_iter\n",
        "\n",
        "  # Run k-means with the current number of iterations\n",
        "  km = KMeans(\n",
        "      n_clusters=n_clusters,\n",
        "      max_iter=max_iter,\n",
        "      # These last three parameter ensure we get the same results each time for\n",
        "      # demonstration purposes\n",
        "      # Initialize with set locations\n",
        "      init=init,\n",
        "      # Only initialize once\n",
        "      n_init=1,\n",
        "      # Use the same random state each time\n",
        "      random_state=0\n",
        "  )\n",
        "\n",
        "  # Fit the model to our data and get a prediction of the labels for each sample\n",
        "  pred = km.fit_predict(X_practice)\n",
        "\n",
        "  for i, (centers, line, cluster) in enumerate(centroids):\n",
        "    centers_ds = centers.data_source\n",
        "    # Add the new centroid location to our existing locations and update the\n",
        "    # data sources\n",
        "    new_x = [*centers_ds.data['x'], km.cluster_centers_[i, 0]]\n",
        "    new_y = [*centers_ds.data['y'], km.cluster_centers_[i, 1]]\n",
        "    new_data = {'x': new_x, 'y': new_y}\n",
        "    centers_ds.data.update(new_data)\n",
        "    line.data_source.data.update(new_data)\n",
        "\n",
        "    # Replace the old clusters with the new using our updated predictions\n",
        "    c = get_cluster(pred, i)\n",
        "    cluster.data_source.data.update({'x': c[0], 'y': c[1]})\n",
        "\n",
        "  # Update our plot in the notebook\n",
        "  push_notebook(handle=handle)\n",
        "  # Prepare for the next button press\n",
        "  max_iter += 1\n",
        "\n",
        "# Listen for clicks on the button and display it\n",
        "button.on_click(on_button_click)\n",
        "display(button)"
      ],
      "execution_count": 23,
      "outputs": [
        {
          "output_type": "display_data",
          "data": {
            "application/javascript": [
              "'use strict';\n",
              "(function(root) {\n",
              "  function now() {\n",
              "    return new Date();\n",
              "  }\n",
              "\n",
              "  const force = true;\n",
              "\n",
              "  if (typeof root._bokeh_onload_callbacks === \"undefined\" || force === true) {\n",
              "    root._bokeh_onload_callbacks = [];\n",
              "    root._bokeh_is_loading = undefined;\n",
              "  }\n",
              "\n",
              "const JS_MIME_TYPE = 'application/javascript';\n",
              "  const HTML_MIME_TYPE = 'text/html';\n",
              "  const EXEC_MIME_TYPE = 'application/vnd.bokehjs_exec.v0+json';\n",
              "  const CLASS_NAME = 'output_bokeh rendered_html';\n",
              "\n",
              "  /**\n",
              "   * Render data to the DOM node\n",
              "   */\n",
              "  function render(props, node) {\n",
              "    const script = document.createElement(\"script\");\n",
              "    node.appendChild(script);\n",
              "  }\n",
              "\n",
              "  /**\n",
              "   * Handle when an output is cleared or removed\n",
              "   */\n",
              "  function handleClearOutput(event, handle) {\n",
              "    function drop(id) {\n",
              "      const view = Bokeh.index.get_by_id(id)\n",
              "      if (view != null) {\n",
              "        view.model.document.clear()\n",
              "        Bokeh.index.delete(view)\n",
              "      }\n",
              "    }\n",
              "\n",
              "    const cell = handle.cell;\n",
              "\n",
              "    const id = cell.output_area._bokeh_element_id;\n",
              "    const server_id = cell.output_area._bokeh_server_id;\n",
              "\n",
              "    // Clean up Bokeh references\n",
              "    if (id != null) {\n",
              "      drop(id)\n",
              "    }\n",
              "\n",
              "    if (server_id !== undefined) {\n",
              "      // Clean up Bokeh references\n",
              "      const cmd_clean = \"from bokeh.io.state import curstate; print(curstate().uuid_to_server['\" + server_id + \"'].get_sessions()[0].document.roots[0]._id)\";\n",
              "      cell.notebook.kernel.execute(cmd_clean, {\n",
              "        iopub: {\n",
              "          output: function(msg) {\n",
              "            const id = msg.content.text.trim()\n",
              "            drop(id)\n",
              "          }\n",
              "        }\n",
              "      });\n",
              "      // Destroy server and session\n",
              "      const cmd_destroy = \"import bokeh.io.notebook as ion; ion.destroy_server('\" + server_id + \"')\";\n",
              "      cell.notebook.kernel.execute(cmd_destroy);\n",
              "    }\n",
              "  }\n",
              "\n",
              "  /**\n",
              "   * Handle when a new output is added\n",
              "   */\n",
              "  function handleAddOutput(event, handle) {\n",
              "    const output_area = handle.output_area;\n",
              "    const output = handle.output;\n",
              "\n",
              "    // limit handleAddOutput to display_data with EXEC_MIME_TYPE content only\n",
              "    if ((output.output_type != \"display_data\") || (!Object.prototype.hasOwnProperty.call(output.data, EXEC_MIME_TYPE))) {\n",
              "      return\n",
              "    }\n",
              "\n",
              "    const toinsert = output_area.element.find(\".\" + CLASS_NAME.split(' ')[0]);\n",
              "\n",
              "    if (output.metadata[EXEC_MIME_TYPE][\"id\"] !== undefined) {\n",
              "      toinsert[toinsert.length - 1].firstChild.textContent = output.data[JS_MIME_TYPE];\n",
              "      // store reference to embed id on output_area\n",
              "      output_area._bokeh_element_id = output.metadata[EXEC_MIME_TYPE][\"id\"];\n",
              "    }\n",
              "    if (output.metadata[EXEC_MIME_TYPE][\"server_id\"] !== undefined) {\n",
              "      const bk_div = document.createElement(\"div\");\n",
              "      bk_div.innerHTML = output.data[HTML_MIME_TYPE];\n",
              "      const script_attrs = bk_div.children[0].attributes;\n",
              "      for (let i = 0; i < script_attrs.length; i++) {\n",
              "        toinsert[toinsert.length - 1].firstChild.setAttribute(script_attrs[i].name, script_attrs[i].value);\n",
              "        toinsert[toinsert.length - 1].firstChild.textContent = bk_div.children[0].textContent\n",
              "      }\n",
              "      // store reference to server id on output_area\n",
              "      output_area._bokeh_server_id = output.metadata[EXEC_MIME_TYPE][\"server_id\"];\n",
              "    }\n",
              "  }\n",
              "\n",
              "  function register_renderer(events, OutputArea) {\n",
              "\n",
              "    function append_mime(data, metadata, element) {\n",
              "      // create a DOM node to render to\n",
              "      const toinsert = this.create_output_subarea(\n",
              "        metadata,\n",
              "        CLASS_NAME,\n",
              "        EXEC_MIME_TYPE\n",
              "      );\n",
              "      this.keyboard_manager.register_events(toinsert);\n",
              "      // Render to node\n",
              "      const props = {data: data, metadata: metadata[EXEC_MIME_TYPE]};\n",
              "      render(props, toinsert[toinsert.length - 1]);\n",
              "      element.append(toinsert);\n",
              "      return toinsert\n",
              "    }\n",
              "\n",
              "    /* Handle when an output is cleared or removed */\n",
              "    events.on('clear_output.CodeCell', handleClearOutput);\n",
              "    events.on('delete.Cell', handleClearOutput);\n",
              "\n",
              "    /* Handle when a new output is added */\n",
              "    events.on('output_added.OutputArea', handleAddOutput);\n",
              "\n",
              "    /**\n",
              "     * Register the mime type and append_mime function with output_area\n",
              "     */\n",
              "    OutputArea.prototype.register_mime_type(EXEC_MIME_TYPE, append_mime, {\n",
              "      /* Is output safe? */\n",
              "      safe: true,\n",
              "      /* Index of renderer in `output_area.display_order` */\n",
              "      index: 0\n",
              "    });\n",
              "  }\n",
              "\n",
              "  // register the mime type if in Jupyter Notebook environment and previously unregistered\n",
              "  if (root.Jupyter !== undefined) {\n",
              "    const events = require('base/js/events');\n",
              "    const OutputArea = require('notebook/js/outputarea').OutputArea;\n",
              "\n",
              "    if (OutputArea.prototype.mime_types().indexOf(EXEC_MIME_TYPE) == -1) {\n",
              "      register_renderer(events, OutputArea);\n",
              "    }\n",
              "  }\n",
              "  if (typeof (root._bokeh_timeout) === \"undefined\" || force === true) {\n",
              "    root._bokeh_timeout = Date.now() + 5000;\n",
              "    root._bokeh_failed_load = false;\n",
              "  }\n",
              "\n",
              "  const NB_LOAD_WARNING = {'data': {'text/html':\n",
              "     \"<div style='background-color: #fdd'>\\n\"+\n",
              "     \"<p>\\n\"+\n",
              "     \"BokehJS does not appear to have successfully loaded. If loading BokehJS from CDN, this \\n\"+\n",
              "     \"may be due to a slow or bad network connection. Possible fixes:\\n\"+\n",
              "     \"</p>\\n\"+\n",
              "     \"<ul>\\n\"+\n",
              "     \"<li>re-rerun `output_notebook()` to attempt to load from CDN again, or</li>\\n\"+\n",
              "     \"<li>use INLINE resources instead, as so:</li>\\n\"+\n",
              "     \"</ul>\\n\"+\n",
              "     \"<code>\\n\"+\n",
              "     \"from bokeh.resources import INLINE\\n\"+\n",
              "     \"output_notebook(resources=INLINE)\\n\"+\n",
              "     \"</code>\\n\"+\n",
              "     \"</div>\"}};\n",
              "\n",
              "  function display_loaded(error = null) {\n",
              "    const el = document.getElementById(null);\n",
              "    if (el != null) {\n",
              "      const html = (() => {\n",
              "        if (typeof root.Bokeh === \"undefined\") {\n",
              "          if (error == null) {\n",
              "            return \"BokehJS is loading ...\";\n",
              "          } else {\n",
              "            return \"BokehJS failed to load.\";\n",
              "          }\n",
              "        } else {\n",
              "          const prefix = `BokehJS ${root.Bokeh.version}`;\n",
              "          if (error == null) {\n",
              "            return `${prefix} successfully loaded.`;\n",
              "          } else {\n",
              "            return `${prefix} <b>encountered errors</b> while loading and may not function as expected.`;\n",
              "          }\n",
              "        }\n",
              "      })();\n",
              "      el.innerHTML = html;\n",
              "\n",
              "      if (error != null) {\n",
              "        const wrapper = document.createElement(\"div\");\n",
              "        wrapper.style.overflow = \"auto\";\n",
              "        wrapper.style.height = \"5em\";\n",
              "        wrapper.style.resize = \"vertical\";\n",
              "        const content = document.createElement(\"div\");\n",
              "        content.style.fontFamily = \"monospace\";\n",
              "        content.style.whiteSpace = \"pre-wrap\";\n",
              "        content.style.backgroundColor = \"rgb(255, 221, 221)\";\n",
              "        content.textContent = error.stack ?? error.toString();\n",
              "        wrapper.append(content);\n",
              "        el.append(wrapper);\n",
              "      }\n",
              "    } else if (Date.now() < root._bokeh_timeout) {\n",
              "      setTimeout(() => display_loaded(error), 100);\n",
              "    }\n",
              "  }\n",
              "\n",
              "  function run_callbacks() {\n",
              "    try {\n",
              "      root._bokeh_onload_callbacks.forEach(function(callback) {\n",
              "        if (callback != null)\n",
              "          callback();\n",
              "      });\n",
              "    } finally {\n",
              "      delete root._bokeh_onload_callbacks\n",
              "    }\n",
              "    console.debug(\"Bokeh: all callbacks have finished\");\n",
              "  }\n",
              "\n",
              "  function load_libs(css_urls, js_urls, callback) {\n",
              "    if (css_urls == null) css_urls = [];\n",
              "    if (js_urls == null) js_urls = [];\n",
              "\n",
              "    root._bokeh_onload_callbacks.push(callback);\n",
              "    if (root._bokeh_is_loading > 0) {\n",
              "      console.debug(\"Bokeh: BokehJS is being loaded, scheduling callback at\", now());\n",
              "      return null;\n",
              "    }\n",
              "    if (js_urls == null || js_urls.length === 0) {\n",
              "      run_callbacks();\n",
              "      return null;\n",
              "    }\n",
              "    console.debug(\"Bokeh: BokehJS not loaded, scheduling load and callback at\", now());\n",
              "    root._bokeh_is_loading = css_urls.length + js_urls.length;\n",
              "\n",
              "    function on_load() {\n",
              "      root._bokeh_is_loading--;\n",
              "      if (root._bokeh_is_loading === 0) {\n",
              "        console.debug(\"Bokeh: all BokehJS libraries/stylesheets loaded\");\n",
              "        run_callbacks()\n",
              "      }\n",
              "    }\n",
              "\n",
              "    function on_error(url) {\n",
              "      console.error(\"failed to load \" + url);\n",
              "    }\n",
              "\n",
              "    for (let i = 0; i < css_urls.length; i++) {\n",
              "      const url = css_urls[i];\n",
              "      const element = document.createElement(\"link\");\n",
              "      element.onload = on_load;\n",
              "      element.onerror = on_error.bind(null, url);\n",
              "      element.rel = \"stylesheet\";\n",
              "      element.type = \"text/css\";\n",
              "      element.href = url;\n",
              "      console.debug(\"Bokeh: injecting link tag for BokehJS stylesheet: \", url);\n",
              "      document.body.appendChild(element);\n",
              "    }\n",
              "\n",
              "    for (let i = 0; i < js_urls.length; i++) {\n",
              "      const url = js_urls[i];\n",
              "      const element = document.createElement('script');\n",
              "      element.onload = on_load;\n",
              "      element.onerror = on_error.bind(null, url);\n",
              "      element.async = false;\n",
              "      element.src = url;\n",
              "      console.debug(\"Bokeh: injecting script tag for BokehJS library: \", url);\n",
              "      document.head.appendChild(element);\n",
              "    }\n",
              "  };\n",
              "\n",
              "  function inject_raw_css(css) {\n",
              "    const element = document.createElement(\"style\");\n",
              "    element.appendChild(document.createTextNode(css));\n",
              "    document.body.appendChild(element);\n",
              "  }\n",
              "\n",
              "  const js_urls = [\"https://cdn.bokeh.org/bokeh/release/bokeh-3.6.2.min.js\", \"https://cdn.bokeh.org/bokeh/release/bokeh-gl-3.6.2.min.js\", \"https://cdn.bokeh.org/bokeh/release/bokeh-widgets-3.6.2.min.js\", \"https://cdn.bokeh.org/bokeh/release/bokeh-tables-3.6.2.min.js\", \"https://cdn.bokeh.org/bokeh/release/bokeh-mathjax-3.6.2.min.js\"];\n",
              "  const css_urls = [];\n",
              "\n",
              "  const inline_js = [    function(Bokeh) {\n",
              "      Bokeh.set_log_level(\"info\");\n",
              "    },\n",
              "function(Bokeh) {\n",
              "    }\n",
              "  ];\n",
              "\n",
              "  function run_inline_js() {\n",
              "    if (root.Bokeh !== undefined || force === true) {\n",
              "      try {\n",
              "            for (let i = 0; i < inline_js.length; i++) {\n",
              "      inline_js[i].call(root, root.Bokeh);\n",
              "    }\n",
              "\n",
              "      } catch (error) {throw error;\n",
              "      }} else if (Date.now() < root._bokeh_timeout) {\n",
              "      setTimeout(run_inline_js, 100);\n",
              "    } else if (!root._bokeh_failed_load) {\n",
              "      console.log(\"Bokeh: BokehJS failed to load within specified timeout.\");\n",
              "      root._bokeh_failed_load = true;\n",
              "    } else if (force !== true) {\n",
              "      const cell = $(document.getElementById(null)).parents('.cell').data().cell;\n",
              "      cell.output_area.append_execute_result(NB_LOAD_WARNING)\n",
              "    }\n",
              "  }\n",
              "\n",
              "  if (root._bokeh_is_loading === 0) {\n",
              "    console.debug(\"Bokeh: BokehJS loaded, going straight to plotting\");\n",
              "    run_inline_js();\n",
              "  } else {\n",
              "    load_libs(css_urls, js_urls, function() {\n",
              "      console.debug(\"Bokeh: BokehJS plotting callback run at\", now());\n",
              "      run_inline_js();\n",
              "    });\n",
              "  }\n",
              "}(window));"
            ],
            "application/vnd.bokehjs_load.v0+json": "'use strict';\n(function(root) {\n  function now() {\n    return new Date();\n  }\n\n  const force = true;\n\n  if (typeof root._bokeh_onload_callbacks === \"undefined\" || force === true) {\n    root._bokeh_onload_callbacks = [];\n    root._bokeh_is_loading = undefined;\n  }\n\n\n  if (typeof (root._bokeh_timeout) === \"undefined\" || force === true) {\n    root._bokeh_timeout = Date.now() + 5000;\n    root._bokeh_failed_load = false;\n  }\n\n  const NB_LOAD_WARNING = {'data': {'text/html':\n     \"<div style='background-color: #fdd'>\\n\"+\n     \"<p>\\n\"+\n     \"BokehJS does not appear to have successfully loaded. If loading BokehJS from CDN, this \\n\"+\n     \"may be due to a slow or bad network connection. Possible fixes:\\n\"+\n     \"</p>\\n\"+\n     \"<ul>\\n\"+\n     \"<li>re-rerun `output_notebook()` to attempt to load from CDN again, or</li>\\n\"+\n     \"<li>use INLINE resources instead, as so:</li>\\n\"+\n     \"</ul>\\n\"+\n     \"<code>\\n\"+\n     \"from bokeh.resources import INLINE\\n\"+\n     \"output_notebook(resources=INLINE)\\n\"+\n     \"</code>\\n\"+\n     \"</div>\"}};\n\n  function display_loaded(error = null) {\n    const el = document.getElementById(null);\n    if (el != null) {\n      const html = (() => {\n        if (typeof root.Bokeh === \"undefined\") {\n          if (error == null) {\n            return \"BokehJS is loading ...\";\n          } else {\n            return \"BokehJS failed to load.\";\n          }\n        } else {\n          const prefix = `BokehJS ${root.Bokeh.version}`;\n          if (error == null) {\n            return `${prefix} successfully loaded.`;\n          } else {\n            return `${prefix} <b>encountered errors</b> while loading and may not function as expected.`;\n          }\n        }\n      })();\n      el.innerHTML = html;\n\n      if (error != null) {\n        const wrapper = document.createElement(\"div\");\n        wrapper.style.overflow = \"auto\";\n        wrapper.style.height = \"5em\";\n        wrapper.style.resize = \"vertical\";\n        const content = document.createElement(\"div\");\n        content.style.fontFamily = \"monospace\";\n        content.style.whiteSpace = \"pre-wrap\";\n        content.style.backgroundColor = \"rgb(255, 221, 221)\";\n        content.textContent = error.stack ?? error.toString();\n        wrapper.append(content);\n        el.append(wrapper);\n      }\n    } else if (Date.now() < root._bokeh_timeout) {\n      setTimeout(() => display_loaded(error), 100);\n    }\n  }\n\n  function run_callbacks() {\n    try {\n      root._bokeh_onload_callbacks.forEach(function(callback) {\n        if (callback != null)\n          callback();\n      });\n    } finally {\n      delete root._bokeh_onload_callbacks\n    }\n    console.debug(\"Bokeh: all callbacks have finished\");\n  }\n\n  function load_libs(css_urls, js_urls, callback) {\n    if (css_urls == null) css_urls = [];\n    if (js_urls == null) js_urls = [];\n\n    root._bokeh_onload_callbacks.push(callback);\n    if (root._bokeh_is_loading > 0) {\n      console.debug(\"Bokeh: BokehJS is being loaded, scheduling callback at\", now());\n      return null;\n    }\n    if (js_urls == null || js_urls.length === 0) {\n      run_callbacks();\n      return null;\n    }\n    console.debug(\"Bokeh: BokehJS not loaded, scheduling load and callback at\", now());\n    root._bokeh_is_loading = css_urls.length + js_urls.length;\n\n    function on_load() {\n      root._bokeh_is_loading--;\n      if (root._bokeh_is_loading === 0) {\n        console.debug(\"Bokeh: all BokehJS libraries/stylesheets loaded\");\n        run_callbacks()\n      }\n    }\n\n    function on_error(url) {\n      console.error(\"failed to load \" + url);\n    }\n\n    for (let i = 0; i < css_urls.length; i++) {\n      const url = css_urls[i];\n      const element = document.createElement(\"link\");\n      element.onload = on_load;\n      element.onerror = on_error.bind(null, url);\n      element.rel = \"stylesheet\";\n      element.type = \"text/css\";\n      element.href = url;\n      console.debug(\"Bokeh: injecting link tag for BokehJS stylesheet: \", url);\n      document.body.appendChild(element);\n    }\n\n    for (let i = 0; i < js_urls.length; i++) {\n      const url = js_urls[i];\n      const element = document.createElement('script');\n      element.onload = on_load;\n      element.onerror = on_error.bind(null, url);\n      element.async = false;\n      element.src = url;\n      console.debug(\"Bokeh: injecting script tag for BokehJS library: \", url);\n      document.head.appendChild(element);\n    }\n  };\n\n  function inject_raw_css(css) {\n    const element = document.createElement(\"style\");\n    element.appendChild(document.createTextNode(css));\n    document.body.appendChild(element);\n  }\n\n  const js_urls = [\"https://cdn.bokeh.org/bokeh/release/bokeh-3.6.2.min.js\", \"https://cdn.bokeh.org/bokeh/release/bokeh-gl-3.6.2.min.js\", \"https://cdn.bokeh.org/bokeh/release/bokeh-widgets-3.6.2.min.js\", \"https://cdn.bokeh.org/bokeh/release/bokeh-tables-3.6.2.min.js\", \"https://cdn.bokeh.org/bokeh/release/bokeh-mathjax-3.6.2.min.js\"];\n  const css_urls = [];\n\n  const inline_js = [    function(Bokeh) {\n      Bokeh.set_log_level(\"info\");\n    },\nfunction(Bokeh) {\n    }\n  ];\n\n  function run_inline_js() {\n    if (root.Bokeh !== undefined || force === true) {\n      try {\n            for (let i = 0; i < inline_js.length; i++) {\n      inline_js[i].call(root, root.Bokeh);\n    }\n\n      } catch (error) {throw error;\n      }} else if (Date.now() < root._bokeh_timeout) {\n      setTimeout(run_inline_js, 100);\n    } else if (!root._bokeh_failed_load) {\n      console.log(\"Bokeh: BokehJS failed to load within specified timeout.\");\n      root._bokeh_failed_load = true;\n    } else if (force !== true) {\n      const cell = $(document.getElementById(null)).parents('.cell').data().cell;\n      cell.output_area.append_execute_result(NB_LOAD_WARNING)\n    }\n  }\n\n  if (root._bokeh_is_loading === 0) {\n    console.debug(\"Bokeh: BokehJS loaded, going straight to plotting\");\n    run_inline_js();\n  } else {\n    load_libs(css_urls, js_urls, function() {\n      console.debug(\"Bokeh: BokehJS plotting callback run at\", now());\n      run_inline_js();\n    });\n  }\n}(window));"
          },
          "metadata": {}
        },
        {
          "output_type": "display_data",
          "data": {
            "text/html": [
              "\n",
              "  <div id=\"e0a255cf-c65d-42a5-afaf-7ac93cbafe5f\" data-root-id=\"p1497\" style=\"display: contents;\"></div>\n"
            ]
          },
          "metadata": {}
        },
        {
          "output_type": "display_data",
          "data": {
            "application/javascript": [
              "(function(root) {\n",
              "  function embed_document(root) {\n",
              "  const docs_json = {\"4c6490e4-c570-42fe-911d-240cf8b98ec7\":{\"version\":\"3.6.2\",\"title\":\"Bokeh Application\",\"roots\":[{\"type\":\"object\",\"name\":\"Figure\",\"id\":\"p1497\",\"attributes\":{\"x_range\":{\"type\":\"object\",\"name\":\"DataRange1d\",\"id\":\"p1498\"},\"y_range\":{\"type\":\"object\",\"name\":\"DataRange1d\",\"id\":\"p1499\"},\"x_scale\":{\"type\":\"object\",\"name\":\"LinearScale\",\"id\":\"p1506\"},\"y_scale\":{\"type\":\"object\",\"name\":\"LinearScale\",\"id\":\"p1507\"},\"title\":{\"type\":\"object\",\"name\":\"Title\",\"id\":\"p1504\"},\"renderers\":[{\"type\":\"object\",\"name\":\"GlyphRenderer\",\"id\":\"p1537\",\"attributes\":{\"data_source\":{\"type\":\"object\",\"name\":\"ColumnDataSource\",\"id\":\"p1531\",\"attributes\":{\"selected\":{\"type\":\"object\",\"name\":\"Selection\",\"id\":\"p1532\",\"attributes\":{\"indices\":[],\"line_indices\":[]}},\"selection_policy\":{\"type\":\"object\",\"name\":\"UnionRenderers\",\"id\":\"p1533\"},\"data\":{\"type\":\"map\",\"entries\":[[\"x\",[10]],[\"y\",[2]]]}}},\"view\":{\"type\":\"object\",\"name\":\"CDSView\",\"id\":\"p1538\",\"attributes\":{\"filter\":{\"type\":\"object\",\"name\":\"AllIndices\",\"id\":\"p1539\"}}},\"glyph\":{\"type\":\"object\",\"name\":\"Scatter\",\"id\":\"p1534\",\"attributes\":{\"x\":{\"type\":\"field\",\"field\":\"x\"},\"y\":{\"type\":\"field\",\"field\":\"y\"},\"size\":{\"type\":\"value\",\"value\":20},\"line_color\":{\"type\":\"value\",\"value\":\"green\"},\"line_width\":{\"type\":\"value\",\"value\":3},\"fill_color\":{\"type\":\"value\",\"value\":\"green\"},\"hatch_color\":{\"type\":\"value\",\"value\":\"green\"},\"marker\":{\"type\":\"value\",\"value\":\"x\"}}},\"nonselection_glyph\":{\"type\":\"object\",\"name\":\"Scatter\",\"id\":\"p1535\",\"attributes\":{\"x\":{\"type\":\"field\",\"field\":\"x\"},\"y\":{\"type\":\"field\",\"field\":\"y\"},\"size\":{\"type\":\"value\",\"value\":20},\"line_color\":{\"type\":\"value\",\"value\":\"green\"},\"line_alpha\":{\"type\":\"value\",\"value\":0.1},\"line_width\":{\"type\":\"value\",\"value\":3},\"fill_color\":{\"type\":\"value\",\"value\":\"green\"},\"fill_alpha\":{\"type\":\"value\",\"value\":0.1},\"hatch_color\":{\"type\":\"value\",\"value\":\"green\"},\"hatch_alpha\":{\"type\":\"value\",\"value\":0.1},\"marker\":{\"type\":\"value\",\"value\":\"x\"}}},\"muted_glyph\":{\"type\":\"object\",\"name\":\"Scatter\",\"id\":\"p1536\",\"attributes\":{\"x\":{\"type\":\"field\",\"field\":\"x\"},\"y\":{\"type\":\"field\",\"field\":\"y\"},\"size\":{\"type\":\"value\",\"value\":20},\"line_color\":{\"type\":\"value\",\"value\":\"green\"},\"line_alpha\":{\"type\":\"value\",\"value\":0.2},\"line_width\":{\"type\":\"value\",\"value\":3},\"fill_color\":{\"type\":\"value\",\"value\":\"green\"},\"fill_alpha\":{\"type\":\"value\",\"value\":0.2},\"hatch_color\":{\"type\":\"value\",\"value\":\"green\"},\"hatch_alpha\":{\"type\":\"value\",\"value\":0.2},\"marker\":{\"type\":\"value\",\"value\":\"x\"}}}}},{\"type\":\"object\",\"name\":\"GlyphRenderer\",\"id\":\"p1548\",\"attributes\":{\"data_source\":{\"type\":\"object\",\"name\":\"ColumnDataSource\",\"id\":\"p1542\",\"attributes\":{\"selected\":{\"type\":\"object\",\"name\":\"Selection\",\"id\":\"p1543\",\"attributes\":{\"indices\":[],\"line_indices\":[]}},\"selection_policy\":{\"type\":\"object\",\"name\":\"UnionRenderers\",\"id\":\"p1544\"},\"data\":{\"type\":\"map\",\"entries\":[[\"x\",[10]],[\"y\",[2]]]}}},\"view\":{\"type\":\"object\",\"name\":\"CDSView\",\"id\":\"p1549\",\"attributes\":{\"filter\":{\"type\":\"object\",\"name\":\"AllIndices\",\"id\":\"p1550\"}}},\"glyph\":{\"type\":\"object\",\"name\":\"Line\",\"id\":\"p1545\",\"attributes\":{\"x\":{\"type\":\"field\",\"field\":\"x\"},\"y\":{\"type\":\"field\",\"field\":\"y\"},\"line_color\":\"green\"}},\"nonselection_glyph\":{\"type\":\"object\",\"name\":\"Line\",\"id\":\"p1546\",\"attributes\":{\"x\":{\"type\":\"field\",\"field\":\"x\"},\"y\":{\"type\":\"field\",\"field\":\"y\"},\"line_color\":\"green\",\"line_alpha\":0.1}},\"muted_glyph\":{\"type\":\"object\",\"name\":\"Line\",\"id\":\"p1547\",\"attributes\":{\"x\":{\"type\":\"field\",\"field\":\"x\"},\"y\":{\"type\":\"field\",\"field\":\"y\"},\"line_color\":\"green\",\"line_alpha\":0.2}}}},{\"type\":\"object\",\"name\":\"GlyphRenderer\",\"id\":\"p1557\",\"attributes\":{\"data_source\":{\"type\":\"object\",\"name\":\"ColumnDataSource\",\"id\":\"p1551\",\"attributes\":{\"selected\":{\"type\":\"object\",\"name\":\"Selection\",\"id\":\"p1552\",\"attributes\":{\"indices\":[],\"line_indices\":[]}},\"selection_policy\":{\"type\":\"object\",\"name\":\"UnionRenderers\",\"id\":\"p1553\"},\"data\":{\"type\":\"map\",\"entries\":[[\"x\",[]],[\"y\",[]]]}}},\"view\":{\"type\":\"object\",\"name\":\"CDSView\",\"id\":\"p1558\",\"attributes\":{\"filter\":{\"type\":\"object\",\"name\":\"AllIndices\",\"id\":\"p1559\"}}},\"glyph\":{\"type\":\"object\",\"name\":\"Scatter\",\"id\":\"p1554\",\"attributes\":{\"x\":{\"type\":\"field\",\"field\":\"x\"},\"y\":{\"type\":\"field\",\"field\":\"y\"},\"line_color\":{\"type\":\"value\",\"value\":\"green\"},\"fill_color\":{\"type\":\"value\",\"value\":\"green\"},\"hatch_color\":{\"type\":\"value\",\"value\":\"green\"},\"marker\":{\"type\":\"value\",\"value\":\"triangle\"}}},\"nonselection_glyph\":{\"type\":\"object\",\"name\":\"Scatter\",\"id\":\"p1555\",\"attributes\":{\"x\":{\"type\":\"field\",\"field\":\"x\"},\"y\":{\"type\":\"field\",\"field\":\"y\"},\"line_color\":{\"type\":\"value\",\"value\":\"green\"},\"line_alpha\":{\"type\":\"value\",\"value\":0.1},\"fill_color\":{\"type\":\"value\",\"value\":\"green\"},\"fill_alpha\":{\"type\":\"value\",\"value\":0.1},\"hatch_color\":{\"type\":\"value\",\"value\":\"green\"},\"hatch_alpha\":{\"type\":\"value\",\"value\":0.1},\"marker\":{\"type\":\"value\",\"value\":\"triangle\"}}},\"muted_glyph\":{\"type\":\"object\",\"name\":\"Scatter\",\"id\":\"p1556\",\"attributes\":{\"x\":{\"type\":\"field\",\"field\":\"x\"},\"y\":{\"type\":\"field\",\"field\":\"y\"},\"line_color\":{\"type\":\"value\",\"value\":\"green\"},\"line_alpha\":{\"type\":\"value\",\"value\":0.2},\"fill_color\":{\"type\":\"value\",\"value\":\"green\"},\"fill_alpha\":{\"type\":\"value\",\"value\":0.2},\"hatch_color\":{\"type\":\"value\",\"value\":\"green\"},\"hatch_alpha\":{\"type\":\"value\",\"value\":0.2},\"marker\":{\"type\":\"value\",\"value\":\"triangle\"}}}}},{\"type\":\"object\",\"name\":\"GlyphRenderer\",\"id\":\"p1567\",\"attributes\":{\"data_source\":{\"type\":\"object\",\"name\":\"ColumnDataSource\",\"id\":\"p1561\",\"attributes\":{\"selected\":{\"type\":\"object\",\"name\":\"Selection\",\"id\":\"p1562\",\"attributes\":{\"indices\":[],\"line_indices\":[]}},\"selection_policy\":{\"type\":\"object\",\"name\":\"UnionRenderers\",\"id\":\"p1563\"},\"data\":{\"type\":\"map\",\"entries\":[[\"x\",[-10]],[\"y\",[3]]]}}},\"view\":{\"type\":\"object\",\"name\":\"CDSView\",\"id\":\"p1568\",\"attributes\":{\"filter\":{\"type\":\"object\",\"name\":\"AllIndices\",\"id\":\"p1569\"}}},\"glyph\":{\"type\":\"object\",\"name\":\"Scatter\",\"id\":\"p1564\",\"attributes\":{\"x\":{\"type\":\"field\",\"field\":\"x\"},\"y\":{\"type\":\"field\",\"field\":\"y\"},\"size\":{\"type\":\"value\",\"value\":20},\"line_color\":{\"type\":\"value\",\"value\":\"purple\"},\"line_width\":{\"type\":\"value\",\"value\":3},\"fill_color\":{\"type\":\"value\",\"value\":\"purple\"},\"hatch_color\":{\"type\":\"value\",\"value\":\"purple\"},\"marker\":{\"type\":\"value\",\"value\":\"x\"}}},\"nonselection_glyph\":{\"type\":\"object\",\"name\":\"Scatter\",\"id\":\"p1565\",\"attributes\":{\"x\":{\"type\":\"field\",\"field\":\"x\"},\"y\":{\"type\":\"field\",\"field\":\"y\"},\"size\":{\"type\":\"value\",\"value\":20},\"line_color\":{\"type\":\"value\",\"value\":\"purple\"},\"line_alpha\":{\"type\":\"value\",\"value\":0.1},\"line_width\":{\"type\":\"value\",\"value\":3},\"fill_color\":{\"type\":\"value\",\"value\":\"purple\"},\"fill_alpha\":{\"type\":\"value\",\"value\":0.1},\"hatch_color\":{\"type\":\"value\",\"value\":\"purple\"},\"hatch_alpha\":{\"type\":\"value\",\"value\":0.1},\"marker\":{\"type\":\"value\",\"value\":\"x\"}}},\"muted_glyph\":{\"type\":\"object\",\"name\":\"Scatter\",\"id\":\"p1566\",\"attributes\":{\"x\":{\"type\":\"field\",\"field\":\"x\"},\"y\":{\"type\":\"field\",\"field\":\"y\"},\"size\":{\"type\":\"value\",\"value\":20},\"line_color\":{\"type\":\"value\",\"value\":\"purple\"},\"line_alpha\":{\"type\":\"value\",\"value\":0.2},\"line_width\":{\"type\":\"value\",\"value\":3},\"fill_color\":{\"type\":\"value\",\"value\":\"purple\"},\"fill_alpha\":{\"type\":\"value\",\"value\":0.2},\"hatch_color\":{\"type\":\"value\",\"value\":\"purple\"},\"hatch_alpha\":{\"type\":\"value\",\"value\":0.2},\"marker\":{\"type\":\"value\",\"value\":\"x\"}}}}},{\"type\":\"object\",\"name\":\"GlyphRenderer\",\"id\":\"p1577\",\"attributes\":{\"data_source\":{\"type\":\"object\",\"name\":\"ColumnDataSource\",\"id\":\"p1571\",\"attributes\":{\"selected\":{\"type\":\"object\",\"name\":\"Selection\",\"id\":\"p1572\",\"attributes\":{\"indices\":[],\"line_indices\":[]}},\"selection_policy\":{\"type\":\"object\",\"name\":\"UnionRenderers\",\"id\":\"p1573\"},\"data\":{\"type\":\"map\",\"entries\":[[\"x\",[-10]],[\"y\",[3]]]}}},\"view\":{\"type\":\"object\",\"name\":\"CDSView\",\"id\":\"p1578\",\"attributes\":{\"filter\":{\"type\":\"object\",\"name\":\"AllIndices\",\"id\":\"p1579\"}}},\"glyph\":{\"type\":\"object\",\"name\":\"Line\",\"id\":\"p1574\",\"attributes\":{\"x\":{\"type\":\"field\",\"field\":\"x\"},\"y\":{\"type\":\"field\",\"field\":\"y\"},\"line_color\":\"purple\"}},\"nonselection_glyph\":{\"type\":\"object\",\"name\":\"Line\",\"id\":\"p1575\",\"attributes\":{\"x\":{\"type\":\"field\",\"field\":\"x\"},\"y\":{\"type\":\"field\",\"field\":\"y\"},\"line_color\":\"purple\",\"line_alpha\":0.1}},\"muted_glyph\":{\"type\":\"object\",\"name\":\"Line\",\"id\":\"p1576\",\"attributes\":{\"x\":{\"type\":\"field\",\"field\":\"x\"},\"y\":{\"type\":\"field\",\"field\":\"y\"},\"line_color\":\"purple\",\"line_alpha\":0.2}}}},{\"type\":\"object\",\"name\":\"GlyphRenderer\",\"id\":\"p1586\",\"attributes\":{\"data_source\":{\"type\":\"object\",\"name\":\"ColumnDataSource\",\"id\":\"p1580\",\"attributes\":{\"selected\":{\"type\":\"object\",\"name\":\"Selection\",\"id\":\"p1581\",\"attributes\":{\"indices\":[],\"line_indices\":[]}},\"selection_policy\":{\"type\":\"object\",\"name\":\"UnionRenderers\",\"id\":\"p1582\"},\"data\":{\"type\":\"map\",\"entries\":[[\"x\",[]],[\"y\",[]]]}}},\"view\":{\"type\":\"object\",\"name\":\"CDSView\",\"id\":\"p1587\",\"attributes\":{\"filter\":{\"type\":\"object\",\"name\":\"AllIndices\",\"id\":\"p1588\"}}},\"glyph\":{\"type\":\"object\",\"name\":\"Scatter\",\"id\":\"p1583\",\"attributes\":{\"x\":{\"type\":\"field\",\"field\":\"x\"},\"y\":{\"type\":\"field\",\"field\":\"y\"},\"line_color\":{\"type\":\"value\",\"value\":\"purple\"},\"fill_color\":{\"type\":\"value\",\"value\":\"purple\"},\"hatch_color\":{\"type\":\"value\",\"value\":\"purple\"},\"marker\":{\"type\":\"value\",\"value\":\"square\"}}},\"nonselection_glyph\":{\"type\":\"object\",\"name\":\"Scatter\",\"id\":\"p1584\",\"attributes\":{\"x\":{\"type\":\"field\",\"field\":\"x\"},\"y\":{\"type\":\"field\",\"field\":\"y\"},\"line_color\":{\"type\":\"value\",\"value\":\"purple\"},\"line_alpha\":{\"type\":\"value\",\"value\":0.1},\"fill_color\":{\"type\":\"value\",\"value\":\"purple\"},\"fill_alpha\":{\"type\":\"value\",\"value\":0.1},\"hatch_color\":{\"type\":\"value\",\"value\":\"purple\"},\"hatch_alpha\":{\"type\":\"value\",\"value\":0.1},\"marker\":{\"type\":\"value\",\"value\":\"square\"}}},\"muted_glyph\":{\"type\":\"object\",\"name\":\"Scatter\",\"id\":\"p1585\",\"attributes\":{\"x\":{\"type\":\"field\",\"field\":\"x\"},\"y\":{\"type\":\"field\",\"field\":\"y\"},\"line_color\":{\"type\":\"value\",\"value\":\"purple\"},\"line_alpha\":{\"type\":\"value\",\"value\":0.2},\"fill_color\":{\"type\":\"value\",\"value\":\"purple\"},\"fill_alpha\":{\"type\":\"value\",\"value\":0.2},\"hatch_color\":{\"type\":\"value\",\"value\":\"purple\"},\"hatch_alpha\":{\"type\":\"value\",\"value\":0.2},\"marker\":{\"type\":\"value\",\"value\":\"square\"}}}}},{\"type\":\"object\",\"name\":\"GlyphRenderer\",\"id\":\"p1596\",\"attributes\":{\"data_source\":{\"type\":\"object\",\"name\":\"ColumnDataSource\",\"id\":\"p1590\",\"attributes\":{\"selected\":{\"type\":\"object\",\"name\":\"Selection\",\"id\":\"p1591\",\"attributes\":{\"indices\":[],\"line_indices\":[]}},\"selection_policy\":{\"type\":\"object\",\"name\":\"UnionRenderers\",\"id\":\"p1592\"},\"data\":{\"type\":\"map\",\"entries\":[[\"x\",[1]],[\"y\",[-3]]]}}},\"view\":{\"type\":\"object\",\"name\":\"CDSView\",\"id\":\"p1597\",\"attributes\":{\"filter\":{\"type\":\"object\",\"name\":\"AllIndices\",\"id\":\"p1598\"}}},\"glyph\":{\"type\":\"object\",\"name\":\"Scatter\",\"id\":\"p1593\",\"attributes\":{\"x\":{\"type\":\"field\",\"field\":\"x\"},\"y\":{\"type\":\"field\",\"field\":\"y\"},\"size\":{\"type\":\"value\",\"value\":20},\"line_color\":{\"type\":\"value\",\"value\":\"blue\"},\"line_width\":{\"type\":\"value\",\"value\":3},\"fill_color\":{\"type\":\"value\",\"value\":\"blue\"},\"hatch_color\":{\"type\":\"value\",\"value\":\"blue\"},\"marker\":{\"type\":\"value\",\"value\":\"x\"}}},\"nonselection_glyph\":{\"type\":\"object\",\"name\":\"Scatter\",\"id\":\"p1594\",\"attributes\":{\"x\":{\"type\":\"field\",\"field\":\"x\"},\"y\":{\"type\":\"field\",\"field\":\"y\"},\"size\":{\"type\":\"value\",\"value\":20},\"line_color\":{\"type\":\"value\",\"value\":\"blue\"},\"line_alpha\":{\"type\":\"value\",\"value\":0.1},\"line_width\":{\"type\":\"value\",\"value\":3},\"fill_color\":{\"type\":\"value\",\"value\":\"blue\"},\"fill_alpha\":{\"type\":\"value\",\"value\":0.1},\"hatch_color\":{\"type\":\"value\",\"value\":\"blue\"},\"hatch_alpha\":{\"type\":\"value\",\"value\":0.1},\"marker\":{\"type\":\"value\",\"value\":\"x\"}}},\"muted_glyph\":{\"type\":\"object\",\"name\":\"Scatter\",\"id\":\"p1595\",\"attributes\":{\"x\":{\"type\":\"field\",\"field\":\"x\"},\"y\":{\"type\":\"field\",\"field\":\"y\"},\"size\":{\"type\":\"value\",\"value\":20},\"line_color\":{\"type\":\"value\",\"value\":\"blue\"},\"line_alpha\":{\"type\":\"value\",\"value\":0.2},\"line_width\":{\"type\":\"value\",\"value\":3},\"fill_color\":{\"type\":\"value\",\"value\":\"blue\"},\"fill_alpha\":{\"type\":\"value\",\"value\":0.2},\"hatch_color\":{\"type\":\"value\",\"value\":\"blue\"},\"hatch_alpha\":{\"type\":\"value\",\"value\":0.2},\"marker\":{\"type\":\"value\",\"value\":\"x\"}}}}},{\"type\":\"object\",\"name\":\"GlyphRenderer\",\"id\":\"p1606\",\"attributes\":{\"data_source\":{\"type\":\"object\",\"name\":\"ColumnDataSource\",\"id\":\"p1600\",\"attributes\":{\"selected\":{\"type\":\"object\",\"name\":\"Selection\",\"id\":\"p1601\",\"attributes\":{\"indices\":[],\"line_indices\":[]}},\"selection_policy\":{\"type\":\"object\",\"name\":\"UnionRenderers\",\"id\":\"p1602\"},\"data\":{\"type\":\"map\",\"entries\":[[\"x\",[1]],[\"y\",[-3]]]}}},\"view\":{\"type\":\"object\",\"name\":\"CDSView\",\"id\":\"p1607\",\"attributes\":{\"filter\":{\"type\":\"object\",\"name\":\"AllIndices\",\"id\":\"p1608\"}}},\"glyph\":{\"type\":\"object\",\"name\":\"Line\",\"id\":\"p1603\",\"attributes\":{\"x\":{\"type\":\"field\",\"field\":\"x\"},\"y\":{\"type\":\"field\",\"field\":\"y\"},\"line_color\":\"blue\"}},\"nonselection_glyph\":{\"type\":\"object\",\"name\":\"Line\",\"id\":\"p1604\",\"attributes\":{\"x\":{\"type\":\"field\",\"field\":\"x\"},\"y\":{\"type\":\"field\",\"field\":\"y\"},\"line_color\":\"blue\",\"line_alpha\":0.1}},\"muted_glyph\":{\"type\":\"object\",\"name\":\"Line\",\"id\":\"p1605\",\"attributes\":{\"x\":{\"type\":\"field\",\"field\":\"x\"},\"y\":{\"type\":\"field\",\"field\":\"y\"},\"line_color\":\"blue\",\"line_alpha\":0.2}}}},{\"type\":\"object\",\"name\":\"GlyphRenderer\",\"id\":\"p1615\",\"attributes\":{\"data_source\":{\"type\":\"object\",\"name\":\"ColumnDataSource\",\"id\":\"p1609\",\"attributes\":{\"selected\":{\"type\":\"object\",\"name\":\"Selection\",\"id\":\"p1610\",\"attributes\":{\"indices\":[],\"line_indices\":[]}},\"selection_policy\":{\"type\":\"object\",\"name\":\"UnionRenderers\",\"id\":\"p1611\"},\"data\":{\"type\":\"map\",\"entries\":[[\"x\",[]],[\"y\",[]]]}}},\"view\":{\"type\":\"object\",\"name\":\"CDSView\",\"id\":\"p1616\",\"attributes\":{\"filter\":{\"type\":\"object\",\"name\":\"AllIndices\",\"id\":\"p1617\"}}},\"glyph\":{\"type\":\"object\",\"name\":\"Scatter\",\"id\":\"p1612\",\"attributes\":{\"x\":{\"type\":\"field\",\"field\":\"x\"},\"y\":{\"type\":\"field\",\"field\":\"y\"},\"line_color\":{\"type\":\"value\",\"value\":\"blue\"},\"fill_color\":{\"type\":\"value\",\"value\":\"blue\"},\"hatch_color\":{\"type\":\"value\",\"value\":\"blue\"}}},\"nonselection_glyph\":{\"type\":\"object\",\"name\":\"Scatter\",\"id\":\"p1613\",\"attributes\":{\"x\":{\"type\":\"field\",\"field\":\"x\"},\"y\":{\"type\":\"field\",\"field\":\"y\"},\"line_color\":{\"type\":\"value\",\"value\":\"blue\"},\"line_alpha\":{\"type\":\"value\",\"value\":0.1},\"fill_color\":{\"type\":\"value\",\"value\":\"blue\"},\"fill_alpha\":{\"type\":\"value\",\"value\":0.1},\"hatch_color\":{\"type\":\"value\",\"value\":\"blue\"},\"hatch_alpha\":{\"type\":\"value\",\"value\":0.1}}},\"muted_glyph\":{\"type\":\"object\",\"name\":\"Scatter\",\"id\":\"p1614\",\"attributes\":{\"x\":{\"type\":\"field\",\"field\":\"x\"},\"y\":{\"type\":\"field\",\"field\":\"y\"},\"line_color\":{\"type\":\"value\",\"value\":\"blue\"},\"line_alpha\":{\"type\":\"value\",\"value\":0.2},\"fill_color\":{\"type\":\"value\",\"value\":\"blue\"},\"fill_alpha\":{\"type\":\"value\",\"value\":0.2},\"hatch_color\":{\"type\":\"value\",\"value\":\"blue\"},\"hatch_alpha\":{\"type\":\"value\",\"value\":0.2}}}}},{\"type\":\"object\",\"name\":\"GlyphRenderer\",\"id\":\"p1625\",\"attributes\":{\"data_source\":{\"type\":\"object\",\"name\":\"ColumnDataSource\",\"id\":\"p1619\",\"attributes\":{\"selected\":{\"type\":\"object\",\"name\":\"Selection\",\"id\":\"p1620\",\"attributes\":{\"indices\":[],\"line_indices\":[]}},\"selection_policy\":{\"type\":\"object\",\"name\":\"UnionRenderers\",\"id\":\"p1621\"},\"data\":{\"type\":\"map\",\"entries\":[[\"x\",{\"type\":\"ndarray\",\"array\":{\"type\":\"bytes\",\"data\":\"CmCDVJU49z/a6eDv0ZbtP69okbDNxfA/FfUaUmi19T9JCVuK1SvzPy6HXRqtkvs/wOxWA/cf8j+o/uUz4jbTv6teU+YqifY/JkA7PqHjAEDLoOIHCPnvP3T+Yx/v4fs/TXgmcyLc8D87o27rOwnhP8+q+WqOrOk/Mh+pA3B2+T/iXJMkHQvpP5ohOIx27dw/AMb7NcaFvz+FH56zERbnP2QTWzNPZNY/cKwfy1CsxT+PpL0AxungPwCqZb1YEec/TMUciivK7j/OxyyOByfwPySe9dJrF+U/TqN83DR75D/siWkS9TriPxU2asUrCvE/LDwoiz+hxD/KnEF1T7ngPxq6ec76c/U/6PTfeku8+D8eJKxEzNbyP2N6msHRTuE/fuNlPXxB6j9GlTctTTLZPwSsY5p6WPM/ySXbI76G+z9OUZFb8Qz5PwYba36aN9w/TnHREzHK6D/1DBJyWUnxP7nJ4P+jePI/BhxH0Zxo7z+wwnPct6LwPzYZwa9+r/4/CikJV2XT1T8MhHZm+/DYP1drdrpIk/0/yAcY0EciCECPN3J5kekHQPcUk+eV/vk/R7vFPoG9/j8zUqOELDsEQP3RG1IB5gJA9HPvyqXyAUBxNztylaIBQO4rPprmU/s/N01GaS5n/T+GPpMiniEDQLcaDnCWufo/oy2wrFd9+z8k8lG6Kcz7P2rS2uudvwJAyDHI4bIGAkB2tFy8R/T0PyGfF47cGwFAjmC/M4f5CUAymyZ16pT5P8Csa7tlW/Y/V0yM+E4rAEDleC8uHu36P9E3FlxfDABAbncI8tzyBEA5CdcmXLT3PzTNUMJn5vw/2zv4EGU9BEAOgSsPrxT3Pzxm4Urv4fg/Hv3r+roxBUAIK7q2JSAEQDQEKhqV3gNACazkFT+c+D/xBoom/nT6PxhjqvhxPf0/DdTSb2UN/j/kMZfKPrz7PxUNk8Vs8QJAk5+oQ5kM+D8RtDoxwPf6Px0BRNWaivY/s1raV/ZIAEBNqGfvBYkCQMb6S1yAhwNAKHNHbFcYCUB8cc+WSu79P9LzbEM91wRAqpevvK4AA0AHkDTMBKD4v5bQXMvpMPa/C5PwBScm8b9jM4WWzCPyvy6yvr1s/P+/5uZVgA6R+L849WFTiWzZvyrrjrL8CQDAagF8taQj/L88nNIk4GACwARWHWesLfe/IFy7jIA1/b/PuGV5VukBwGC1/Kj6xfy/suQavQfXAMDq7e0t/fLov7IYrJA4BfW/LMJefKuH/b/HyEaYVn75v1t8r7EO5/q/uCQPlXJs7r+o2PYF+O/+v2gJM9cOQ/S/7X7+j3pL979JmhBv7eXyvyQ5o+Y4PP6/teYnQQeMAsBVRcbFffgAwGAIeTJzM/2/9Gqvldn1A8C6ax4gRT30vxN/sMrk6vq/cM4tsfM89b8H7cAZ+5Dhv0SQtuRUpv2/aqN7AwR79L8U0k0zhVYEwAc+7AqWUPm/lDFKVYT3/b+CCrVXxCP2v+zkhVlwZQDAaMxHhHPp8r8iMEyshXT9v+B7khkc/9e/CDkBs5+E+b8LAezfDqb3vyCINzxFoPu/zIxVoPtwAcB51LnkMmD5v846zz9yGfO/\"},\"shape\":[150],\"dtype\":\"float64\",\"order\":\"little\"}],[\"y\",{\"type\":\"ndarray\",\"array\":{\"type\":\"bytes\",\"data\":\"7wNKVZXpEEBLi/T9TQkSQL8C8Y+qHxRAZ3mCNmB1EUCvfvhi6+ERQFWQboUJzhBAQtMS+o8DD0CWRCgfu4USQAUed/Etdg9AfVWf0OKcDEBv66x2PdcQQALyXtFjJxRAUtn9irL4EUCibBYk0oEKQDxzS/8ghxFABB5RW7KeE0CA5VqZTJwQQOn4Qt4OwAxAWgvKDuAdFUBNCxTAyFYQQMXTtz0nxRJA1TItuyfKEECtaf8bLP0RQFT/NGgwtQ1AetgQV2ISEkC60iqf8dERQDyqp9BafRBAG1dVrPx+EECi939scYYLQJT6VstdaRBA/J8q0gUkEkCQkLGcrFERQFY2wBIeeRFAfPDX3rF9DUAkZ6Ax6bAPQJJkugq1DhBAP2mZutVTEUB4/4onTQQTQOimRfwKSQxAkhrhAsYBFUBEN8bq9NoQQIkUNh/1UhNA3DduWPioE0CVtZQOHisTQCaNxPvXoBJAEcF9pHHJFEBy/TOT5QQSQKmpWBkNCg1ABhleymgnE0BYrFlXNhoVQG+zofYVxOA/on93tew0+j+D7GPpaJz1PwY6OrSkpP0/aiYn1ELI9D/ttsFGvT7qP44bGHaCvfU/4j93tgdF1j90B2XHRPn4PxLEtvPBVOo/Ddf/WR8o/T8ODMzrT5/xP9PMK3M2rfI/I4s05gk87T+in+FtKsbzP7SiVxB4ZOk/DPx+JvZ41j+oYLxdtODxP/Dsju5fcfM/iMrG1B/r9T8toDfOekz3P4d055kCV+U/bHJGmcER/D/rNJkLIwHfP542b7sNHOI/+oXEwYXk1j+BWGyMWbjlP9KtQRKDzP0/+kovRUUg7j/9ozDyFR71P1ALAfgcCcA/HEQrx+3l8D9ooFGnlenwP6JixlMPT+I/zhONZbzQ8z/kS8HKQ7HhP9uzzV1BAe0/tCtq2XDnyj/oRwktmGXLv0girHMPvbg/5WueMFSP7T/aCSib7LT6P36k1SLAf/A/uG4gqkwS1D9UJCLGAfvpPz4Db+pd8/Q/+gKsIgoO+T8iNBfhKeXoP5aGEXvPmvM/uH+Mtd7Utj/KIcZHFGQEQBKciR5R8wZAhs2/gaecCED9MPWvNXoFQAzgl5buswVA1sHxARPcCECAaj4yjSwHQId4wZuJ9QVAXvttItxECUAIt0BompgHQOr1RIWTRQhAgiOv5jBkBkB0AbrOqV4FQIDNqK3bAQlAfDPaDMV3CkD67FIAUSD+P9Fz8wj6DApADmCHOwTBBUBruQ+Q4iYGQDRmL1CYowBAVtfzMFqpC0DoJuhQNHoBQMXsIEs3CgVAb79eoNQQBkCSvXv5Ph8KQId8JBhCzwFADbVt8tnICUD93uTJ11AFQFXEJnT+IQdA/bDd1CEZCEAXcID5XbIHQCcIM4aPuwdAqTzwMmCB+D9iXW1HR+cIQJ5EzZJ8xwVAQa07tO7gBkBAfVkS3ZkPQPZldM96bAtAwUZ5rhJ9DUC4zsVpR8cJQNSZNyAJMAxABaVB1emMDEDn6zZIQGsFQD61AN5dGgNA1veF5//jC0D+huZ2xKwJQA4G8JXC0ghAD9r1qb/5DUBzjxkFUp8EQPo3IroLgAVA\"},\"shape\":[150],\"dtype\":\"float64\",\"order\":\"little\"}]]}}},\"view\":{\"type\":\"object\",\"name\":\"CDSView\",\"id\":\"p1626\",\"attributes\":{\"filter\":{\"type\":\"object\",\"name\":\"AllIndices\",\"id\":\"p1627\"}}},\"glyph\":{\"type\":\"object\",\"name\":\"Circle\",\"id\":\"p1622\",\"attributes\":{\"x\":{\"type\":\"field\",\"field\":\"x\"},\"y\":{\"type\":\"field\",\"field\":\"y\"},\"line_color\":{\"type\":\"value\",\"value\":\"#1f77b4\"},\"fill_color\":{\"type\":\"value\",\"value\":\"#1f77b4\"}}},\"nonselection_glyph\":{\"type\":\"object\",\"name\":\"Circle\",\"id\":\"p1623\",\"attributes\":{\"x\":{\"type\":\"field\",\"field\":\"x\"},\"y\":{\"type\":\"field\",\"field\":\"y\"},\"line_color\":{\"type\":\"value\",\"value\":\"#1f77b4\"},\"line_alpha\":{\"type\":\"value\",\"value\":0.1},\"fill_color\":{\"type\":\"value\",\"value\":\"#1f77b4\"},\"fill_alpha\":{\"type\":\"value\",\"value\":0.1},\"hatch_alpha\":{\"type\":\"value\",\"value\":0.1}}},\"muted_glyph\":{\"type\":\"object\",\"name\":\"Circle\",\"id\":\"p1624\",\"attributes\":{\"x\":{\"type\":\"field\",\"field\":\"x\"},\"y\":{\"type\":\"field\",\"field\":\"y\"},\"line_color\":{\"type\":\"value\",\"value\":\"#1f77b4\"},\"line_alpha\":{\"type\":\"value\",\"value\":0.2},\"fill_color\":{\"type\":\"value\",\"value\":\"#1f77b4\"},\"fill_alpha\":{\"type\":\"value\",\"value\":0.2},\"hatch_alpha\":{\"type\":\"value\",\"value\":0.2}}}}}],\"toolbar\":{\"type\":\"object\",\"name\":\"Toolbar\",\"id\":\"p1505\",\"attributes\":{\"tools\":[{\"type\":\"object\",\"name\":\"PanTool\",\"id\":\"p1518\"},{\"type\":\"object\",\"name\":\"WheelZoomTool\",\"id\":\"p1519\",\"attributes\":{\"renderers\":\"auto\"}},{\"type\":\"object\",\"name\":\"BoxZoomTool\",\"id\":\"p1520\",\"attributes\":{\"overlay\":{\"type\":\"object\",\"name\":\"BoxAnnotation\",\"id\":\"p1521\",\"attributes\":{\"syncable\":false,\"line_color\":\"black\",\"line_alpha\":1.0,\"line_width\":2,\"line_dash\":[4,4],\"fill_color\":\"lightgrey\",\"fill_alpha\":0.5,\"level\":\"overlay\",\"visible\":false,\"left\":{\"type\":\"number\",\"value\":\"nan\"},\"right\":{\"type\":\"number\",\"value\":\"nan\"},\"top\":{\"type\":\"number\",\"value\":\"nan\"},\"bottom\":{\"type\":\"number\",\"value\":\"nan\"},\"left_units\":\"canvas\",\"right_units\":\"canvas\",\"top_units\":\"canvas\",\"bottom_units\":\"canvas\",\"handles\":{\"type\":\"object\",\"name\":\"BoxInteractionHandles\",\"id\":\"p1527\",\"attributes\":{\"all\":{\"type\":\"object\",\"name\":\"AreaVisuals\",\"id\":\"p1526\",\"attributes\":{\"fill_color\":\"white\",\"hover_fill_color\":\"lightgray\"}}}}}}}},{\"type\":\"object\",\"name\":\"SaveTool\",\"id\":\"p1528\"},{\"type\":\"object\",\"name\":\"ResetTool\",\"id\":\"p1529\"},{\"type\":\"object\",\"name\":\"HelpTool\",\"id\":\"p1530\"}]}},\"left\":[{\"type\":\"object\",\"name\":\"LinearAxis\",\"id\":\"p1513\",\"attributes\":{\"ticker\":{\"type\":\"object\",\"name\":\"BasicTicker\",\"id\":\"p1514\",\"attributes\":{\"mantissas\":[1,2,5]}},\"formatter\":{\"type\":\"object\",\"name\":\"BasicTickFormatter\",\"id\":\"p1515\"},\"major_label_policy\":{\"type\":\"object\",\"name\":\"AllLabels\",\"id\":\"p1516\"}}}],\"below\":[{\"type\":\"object\",\"name\":\"LinearAxis\",\"id\":\"p1508\",\"attributes\":{\"ticker\":{\"type\":\"object\",\"name\":\"BasicTicker\",\"id\":\"p1509\",\"attributes\":{\"mantissas\":[1,2,5]}},\"formatter\":{\"type\":\"object\",\"name\":\"BasicTickFormatter\",\"id\":\"p1510\"},\"major_label_policy\":{\"type\":\"object\",\"name\":\"AllLabels\",\"id\":\"p1511\"}}}],\"center\":[{\"type\":\"object\",\"name\":\"Grid\",\"id\":\"p1512\",\"attributes\":{\"axis\":{\"id\":\"p1508\"}}},{\"type\":\"object\",\"name\":\"Grid\",\"id\":\"p1517\",\"attributes\":{\"dimension\":1,\"axis\":{\"id\":\"p1513\"}}},{\"type\":\"object\",\"name\":\"Legend\",\"id\":\"p1540\",\"attributes\":{\"location\":\"bottom_left\",\"items\":[{\"type\":\"object\",\"name\":\"LegendItem\",\"id\":\"p1541\",\"attributes\":{\"label\":{\"type\":\"value\",\"value\":\"Centroid 1\"},\"renderers\":[{\"id\":\"p1537\"}]}},{\"type\":\"object\",\"name\":\"LegendItem\",\"id\":\"p1560\",\"attributes\":{\"label\":{\"type\":\"value\",\"value\":\"Centroid 1 cluster\"},\"renderers\":[{\"id\":\"p1557\"}]}},{\"type\":\"object\",\"name\":\"LegendItem\",\"id\":\"p1570\",\"attributes\":{\"label\":{\"type\":\"value\",\"value\":\"Centroid 2\"},\"renderers\":[{\"id\":\"p1567\"}]}},{\"type\":\"object\",\"name\":\"LegendItem\",\"id\":\"p1589\",\"attributes\":{\"label\":{\"type\":\"value\",\"value\":\"Centroid 2 cluster\"},\"renderers\":[{\"id\":\"p1586\"}]}},{\"type\":\"object\",\"name\":\"LegendItem\",\"id\":\"p1599\",\"attributes\":{\"label\":{\"type\":\"value\",\"value\":\"Centroid 3\"},\"renderers\":[{\"id\":\"p1596\"}]}},{\"type\":\"object\",\"name\":\"LegendItem\",\"id\":\"p1618\",\"attributes\":{\"label\":{\"type\":\"value\",\"value\":\"Centroid 3 cluster\"},\"renderers\":[{\"id\":\"p1615\"}]}}]}}]}}]}};\n",
              "  const render_items = [{\"docid\":\"4c6490e4-c570-42fe-911d-240cf8b98ec7\",\"roots\":{\"p1497\":\"e0a255cf-c65d-42a5-afaf-7ac93cbafe5f\"},\"root_ids\":[\"p1497\"],\"notebook_comms_target\":\"p1628\"}];\n",
              "  void root.Bokeh.embed.embed_items_notebook(docs_json, render_items);\n",
              "  }\n",
              "  if (root.Bokeh !== undefined) {\n",
              "    embed_document(root);\n",
              "  } else {\n",
              "    let attempts = 0;\n",
              "    const timer = setInterval(function(root) {\n",
              "      if (root.Bokeh !== undefined) {\n",
              "        clearInterval(timer);\n",
              "        embed_document(root);\n",
              "      } else {\n",
              "        attempts++;\n",
              "        if (attempts > 100) {\n",
              "          clearInterval(timer);\n",
              "          console.log(\"Bokeh: ERROR: Unable to run BokehJS code because BokehJS library is missing\");\n",
              "        }\n",
              "      }\n",
              "    }, 10, root)\n",
              "  }\n",
              "})(window);"
            ],
            "application/vnd.bokehjs_exec.v0+json": ""
          },
          "metadata": {
            "application/vnd.bokehjs_exec.v0+json": {
              "id": "p1497"
            }
          }
        },
        {
          "output_type": "display_data",
          "data": {
            "text/plain": [
              "Button(description='Next', style=ButtonStyle())"
            ],
            "application/vnd.jupyter.widget-view+json": {
              "version_major": 2,
              "version_minor": 0,
              "model_id": "92148a215fc1492388562abe5271271d"
            }
          },
          "metadata": {}
        }
      ]
    },
    {
      "cell_type": "markdown",
      "metadata": {
        "id": "XkMgPhlZVrkT"
      },
      "source": [
        ">  Click the \"Next\" button to cycle through the steps the algorithm is taking. Make sure you run all cells before clicking the button, and re-run the above cell to restart the algorithm. Double click on the above cell to see the code that creates this animation.\n",
        "\n"
      ]
    },
    {
      "cell_type": "markdown",
      "metadata": {
        "id": "cXiVHFnxH7-9"
      },
      "source": [
        "# Project: Customer Segmentation\n",
        "\n",
        "Now that we understand the basics of K-means, let's move on to a practical application of the algorithm. We will be performing customer segmentation using the customer data in [Mall_Customers.csv](https://drive.google.com/file/d/19BOhwz52NUY3dg8XErVYglctpr5sjTy4/view) (you will need to download the zip file and access the CSV within).\n",
        "\n",
        "[Customer/Market Segmentation](https://en.wikipedia.org/wiki/Market_segmentation) is \"*the activity of dividing a broad consumer or business market... into sub-groups of consumers (known as segments) based on some type of shared characteristics*\". In our case we will have a consumer market of mall customers and we will be attempting to divide this market based on shared characteristics such as age and income.\n",
        "\n",
        "We will assume the role of data scientists hired by a mall to interpret it's customer data and derive some new value from it, specifically distinct, targetable groups of customers."
      ]
    },
    {
      "cell_type": "markdown",
      "metadata": {
        "id": "O4jGDE5wE_wc"
      },
      "source": [
        "## Understanding Our Data"
      ]
    },
    {
      "cell_type": "markdown",
      "metadata": {
        "id": "8uPiNitKHbk9"
      },
      "source": [
        "Let's use interactive dataframes in our notebook."
      ]
    },
    {
      "cell_type": "code",
      "metadata": {
        "id": "xf6Jmwqy5AFk"
      },
      "source": [
        "%load_ext google.colab.data_table"
      ],
      "execution_count": null,
      "outputs": []
    },
    {
      "cell_type": "markdown",
      "metadata": {
        "id": "SEJK3cxtHnYc"
      },
      "source": [
        "The data came with some column names which are not great for use in Python, so let's rename them. It also includes an `id` column which can be used as an index and is not very useful otherwise, so we'll use it as such."
      ]
    },
    {
      "cell_type": "code",
      "metadata": {
        "id": "xcpo-DOl3hlh"
      },
      "source": [
        "import pandas as pd\n",
        "customers = pd.read_csv('Mall_Customers.csv', header=0,\n",
        "                        names=['id', 'gender', 'age', 'annual_income', 'spending_score'],\n",
        "                        index_col='id')\n",
        "customers"
      ],
      "execution_count": null,
      "outputs": []
    },
    {
      "cell_type": "code",
      "metadata": {
        "id": "CerZVLcJMsXO"
      },
      "source": [
        "customers.info()"
      ],
      "execution_count": null,
      "outputs": []
    },
    {
      "cell_type": "markdown",
      "metadata": {
        "id": "_GI9ySyBL70D"
      },
      "source": [
        "A few notes:\n",
        "\n",
        "- The `annual_income` column is in the thousands of dollars, so a value of 28 represents an annual income of $28,000.\n",
        "- The `spending_score` values are representations of the amount any given customer spends. They range from 1 to 100, with 1 being the least spending and 100 being the most.\n",
        "- There is no garbage data in our dataset as indicated by `info`."
      ]
    },
    {
      "cell_type": "markdown",
      "metadata": {
        "id": "46QyAmlIIth9"
      },
      "source": [
        "Let's see the mean, minimum, and maximum for our numeric columns."
      ]
    },
    {
      "cell_type": "code",
      "metadata": {
        "id": "L0pURVEo5v2t"
      },
      "source": [
        "customers.drop(labels='gender', axis=1).agg(['mean', 'min', 'max'])"
      ],
      "execution_count": null,
      "outputs": []
    },
    {
      "cell_type": "markdown",
      "metadata": {
        "id": "wTMIBUwDJNXb"
      },
      "source": [
        "And for our categorical `gender` column lets see it's categories."
      ]
    },
    {
      "cell_type": "code",
      "metadata": {
        "id": "oxOLGFEp69LR"
      },
      "source": [
        "customers['gender'].unique()"
      ],
      "execution_count": null,
      "outputs": []
    },
    {
      "cell_type": "markdown",
      "metadata": {
        "id": "Pnj4-wSJJb03"
      },
      "source": [
        "Now let's get the mean by gender for our numeric columns and visualize it."
      ]
    },
    {
      "cell_type": "code",
      "metadata": {
        "id": "DQM8ew5FBdg2"
      },
      "source": [
        "customers.groupby('gender').mean().plot.bar(ylim=(30, 80))"
      ],
      "execution_count": null,
      "outputs": []
    },
    {
      "cell_type": "markdown",
      "metadata": {
        "id": "tAJURy_0J_nD"
      },
      "source": [
        "Let's see the ratio of males to females in our data."
      ]
    },
    {
      "cell_type": "code",
      "metadata": {
        "id": "VWzJ50VE7fIk"
      },
      "source": [
        "counts = customers['gender'].value_counts()\n",
        "counts.plot.pie()\n",
        "print(counts)"
      ],
      "execution_count": null,
      "outputs": []
    },
    {
      "cell_type": "markdown",
      "metadata": {
        "id": "6kJQgAv1KYUr"
      },
      "source": [
        "Let's visualize our age group and income frequencies with histograms."
      ]
    },
    {
      "cell_type": "code",
      "metadata": {
        "id": "_nazjlq5Bkrk"
      },
      "source": [
        "customers[['age', 'annual_income']].plot.hist(subplots=True, rwidth=0.9, sharex=False)"
      ],
      "execution_count": null,
      "outputs": []
    },
    {
      "cell_type": "markdown",
      "metadata": {
        "id": "KDGKYKZd7vN_"
      },
      "source": [
        "**Challenge**: Summarize, in text, what our graphs have shown us about our dataset."
      ]
    },
    {
      "cell_type": "markdown",
      "metadata": {
        "id": "dPvSXahkh9eQ"
      },
      "source": [
        "## Training"
      ]
    },
    {
      "cell_type": "markdown",
      "metadata": {
        "id": "ZFQdIqcTRj7f"
      },
      "source": [
        "### Basic KMeans Example with SKLearn\n",
        "\n",
        "The minimum steps required to run KMeans on our data are:\n",
        "\n",
        "1. Gather numeric data to cluster (KMeans isn't designed for categorical data)\n",
        "2. Create a `KMeans` object\n",
        "3. Call `fit` on the `KMeans` object with our numeric data as an argument"
      ]
    },
    {
      "cell_type": "code",
      "metadata": {
        "id": "FfQBgWY-OD38"
      },
      "source": [],
      "execution_count": null,
      "outputs": []
    },
    {
      "cell_type": "markdown",
      "metadata": {
        "id": "fvIwt1VlTpb4"
      },
      "source": [
        "Our `KMeans` object is now fitted to our data, which means the centroids are in their final locations, and we can group data into clusters."
      ]
    },
    {
      "cell_type": "code",
      "metadata": {
        "id": "MkikD9XGUJS3"
      },
      "source": [],
      "execution_count": null,
      "outputs": []
    },
    {
      "cell_type": "code",
      "metadata": {
        "id": "bMBfV6nnUh8-"
      },
      "source": [],
      "execution_count": null,
      "outputs": []
    },
    {
      "cell_type": "markdown",
      "metadata": {
        "id": "1_pNIqKUU8zI"
      },
      "source": [
        "#### Evaluating Performance with Inertia\n",
        "\n",
        "We can also evaluate the performance of our model. One of the easiest ways to do this is by looking at the *inertia* of our model which is stored in the `inertia_` property.\n",
        "\n",
        "In simple terms, the inertia can be thought of as the total distance between each sample in our dataset and the center of the group it was assigned to. Intuitively, we want our clusters to be well separated and distinct so that we know our groups are meaningful. With this in mind, we want our model's inertia to be as small as possible so that each sample is closer to the center of it's group (and farther from the other groups).\n",
        "\n",
        "Let's look at our current model's inertia."
      ]
    },
    {
      "cell_type": "code",
      "metadata": {
        "id": "A_UGPBMWW-mP"
      },
      "source": [],
      "execution_count": null,
      "outputs": []
    },
    {
      "cell_type": "markdown",
      "metadata": {
        "id": "G6o_R8MnXK3G"
      },
      "source": [
        "The inertia of our model is currently very high. This means that if we were to plot out some of our data, we would likely see each of the cluster's samples intermingled amongst the other samples, with no clear groupings. With this model we have not clearly segmented our customers at all, but let's look at some ways we can improve the model."
      ]
    },
    {
      "cell_type": "markdown",
      "metadata": {
        "id": "2x9r2OXPN6_d"
      },
      "source": [
        "### Preprocessing\n",
        "\n",
        "When using KMeans, it is crucial to perform data scaling (ensure all of our data falls within the same range). In our dataset, each of the numeric columns are on different scales: age ranges from 18 to 70, income ranges from 15 to 137, and spending score ranges from 1 to 99.\n",
        "\n",
        "We need to scale our data because KMeans works by calculating the distances between each data point and the centroids, so if the coordinates of each data point are each on different scales it will confuse the algorithm's distance calculations.\n",
        "\n",
        "The lack of scaling in our first model is likely a potential area of improvement. In Sci-Kit Learn we can use `StandardScaler` to scale our data. We can then use a *column transformer* to scale each of our columns, and we can put our scaling and model all together into one continuous process with a *pipeline*."
      ]
    },
    {
      "cell_type": "markdown",
      "metadata": {
        "id": "xC_-f1c3dZ_Q"
      },
      "source": [
        "Let's start by importing the necessary objects and telling sklearn to use diagram displays."
      ]
    },
    {
      "cell_type": "code",
      "metadata": {
        "id": "5n10EEihiB3k"
      },
      "source": [],
      "execution_count": null,
      "outputs": []
    },
    {
      "cell_type": "markdown",
      "metadata": {
        "id": "fuVjTIHWdtGW"
      },
      "source": [
        "Now lets create our scaler and try it out on a few samples. Note how the relative size of each item within its column is preserved, but how all values now fall within the same range."
      ]
    },
    {
      "cell_type": "code",
      "metadata": {
        "id": "jrV5E7zTcyZd"
      },
      "source": [],
      "execution_count": null,
      "outputs": []
    },
    {
      "cell_type": "markdown",
      "metadata": {
        "id": "BL_w7hOIfKBE"
      },
      "source": [
        "Now let's create our column transformer which can apply transformations to specific columns in our dataset. We do this with `make_column_transformer` which takes any number of tuples as arguments. Each tuple contains the transformer to apply to the columns and the identifiers of the columns to transform. In our case we want to apply scaling to each of our numeric columns, so we pass a tuple with our scaler and a list of the names of those columns.\n",
        "\n",
        "Note that we can now pass our entire dataframe and our column transformer will transform the specified columns and drop the rest."
      ]
    },
    {
      "cell_type": "code",
      "metadata": {
        "id": "1IIYxK4nNsOS"
      },
      "source": [],
      "execution_count": null,
      "outputs": []
    },
    {
      "cell_type": "markdown",
      "metadata": {
        "id": "kK_SEqPNhB8O"
      },
      "source": [
        "Now to put KMeans and it's preprocessing requirements all in one object we can use a pipeline.\n",
        "\n",
        "Because we specified `display='diagram'` earlier, sklearn will display our pipeline as a neat diagram. Try clicking on the different parts of the diagram to see more details."
      ]
    },
    {
      "cell_type": "code",
      "metadata": {
        "id": "VFklwZEZfFh1"
      },
      "source": [],
      "execution_count": null,
      "outputs": []
    },
    {
      "cell_type": "markdown",
      "metadata": {
        "id": "G51qO97Ci6S6"
      },
      "source": [
        "With this pipeline we can now pass our dataframe into `fit` and the data will be scaled then passed to KMeans to be clustered."
      ]
    },
    {
      "cell_type": "code",
      "metadata": {
        "id": "dEk9_zjmjjVQ"
      },
      "source": [],
      "execution_count": null,
      "outputs": []
    },
    {
      "cell_type": "markdown",
      "metadata": {
        "id": "iYRPTVMqjspU"
      },
      "source": [
        "We can now check the inertia of our model by accessing the `kmeans` step in our pipeline."
      ]
    },
    {
      "cell_type": "code",
      "metadata": {
        "id": "clBhUGajkAAZ"
      },
      "source": [],
      "execution_count": null,
      "outputs": []
    },
    {
      "cell_type": "markdown",
      "metadata": {
        "id": "-UYY8co3lSJw"
      },
      "source": [
        "Now we have significantly decreased our model's inertia just by scaling our data before fitting."
      ]
    },
    {
      "cell_type": "markdown",
      "metadata": {
        "id": "ALB5si4K_uxK"
      },
      "source": [
        "**Challenge**: Read over the [user guide section for the column transformer](https://scikit-learn.org/stable/modules/compose.html#columntransformer-for-heterogeneous-data) and ask questions about anything that doesn't make sense."
      ]
    },
    {
      "cell_type": "markdown",
      "metadata": {
        "id": "S_jnkXdGYVjb"
      },
      "source": [
        "### Choosing $k$\n",
        "\n",
        "Another important step in using KMeans is to choose the value of $k$. Our model currently uses the default $k$ in sklearn which is 8, but it is very unlikely that this will be the ideal number of clusters for our problem.\n",
        "\n",
        "The number of clusters to use is dependent on the problem. Sometimes we have an idea about how many clusters we want, for example if we were trying to cluster customers into groups using their body dimensions in order to generate three different sizes for clothing. In that case we would set $k = 3$.\n",
        "\n",
        "However in other cases we know only that we want to cluster our data, but we don't know how many clusters is best. This is the case for us: we know that we want to find different segments of our customers, but we can't tell how many segments there are in our customer-base.\n",
        "\n",
        "Ultimately the number of clusters comes down to what you think is best for your problem, but when we don't know how many clusters we want there are a few different methods to help us choose."
      ]
    },
    {
      "cell_type": "markdown",
      "metadata": {
        "id": "lBB1hSb5siFj"
      },
      "source": [
        "#### The Elbow Method\n",
        "\n",
        "One way that we can choose $k$ is by looking at the inertia of our model with different values of $k$. You'll remember from earlier that we want a small inertia, however we cannot simply find the smallest inertia because the inertia of KMeans will always decrease as $k$ increases. This is because as we increase $k$ the size of each cluster will decrease as we split our data into more groups, and so the total distance between each data point and it's centroid will naturally decrease.\n",
        "\n",
        "So in order to use the inertia of our model we can use the *elbow method*. In this method we run the model at different values of $k$ and plot the inertia against each value. We then look for an 'elbow' in the plot, or a point where the difference between the points decreases significantly. The idea is that the point where the inertia stops falling rapidly will be a good number of clusters for the data."
      ]
    },
    {
      "cell_type": "code",
      "metadata": {
        "id": "8dOzfPfY8RE1"
      },
      "source": [
        "inertias = []\n",
        "# We'll test k from 1 through 10\n",
        "k_vals = range(1, 10)\n",
        "\n",
        "# Get the inertia of our model at each k value\n",
        "for k in k_vals:\n",
        "  # We can change the parameters of steps within our pipeline using the name of\n",
        "  # the step (kmeans) followed by two underscores and the parameter name\n",
        "  kmeans.set_params(kmeans__n_clusters=k)\n",
        "  kmeans.fit(customers)\n",
        "  inertias.append(kmeans.named_steps['kmeans'].inertia_)\n",
        "\n",
        "# Plot the inertias at each value of k\n",
        "elbow = figure(title='Customer KMeans Elbow Method', x_axis_label='k', y_axis_label='Inertia')\n",
        "elbow.circle(k_vals, inertias)\n",
        "elbow.line(k_vals, inertias)\n",
        "show(elbow)"
      ],
      "execution_count": null,
      "outputs": []
    },
    {
      "cell_type": "markdown",
      "metadata": {
        "id": "9hCEtxR02EwB"
      },
      "source": [
        "From the plot we see a few things:\n",
        "\n",
        "- With just one cluster our inertia is very high, which is to be expected\n",
        "- As we increase the number of clusters, the inertia always decreases\n",
        "- There is a significant decrease in the change of inertia right at $k=4$, so we can say that 4 might be a good number of clusters for our problem\n",
        "- There isn't a clear 'elbow' in our plot, it looks closer to an outstretched arm so it's hard to be decisive about the value of $k$. This is often the case when using KMeans, and for that reason other methods have been developed to help us narrow down $k$ even more"
      ]
    },
    {
      "cell_type": "markdown",
      "metadata": {
        "id": "tzkj7EvnmFyH"
      },
      "source": [
        "Let's look now at our model's score after scaling our data and determining a suitable $k$ for our dataset."
      ]
    },
    {
      "cell_type": "code",
      "metadata": {
        "id": "HJKSwJj-8D4F"
      },
      "source": [],
      "execution_count": null,
      "outputs": []
    },
    {
      "cell_type": "markdown",
      "metadata": {
        "id": "pxE38v0fnZ6-"
      },
      "source": [
        "You'll notice that we have actually increased our model's inertia from before when we were only scaling our data, however this is to be expected as before we were using $k=8$ (the default in sklearn). Furthermore, this increase is acceptable as we have increased our silhouette score from the score at $k=8$.\n",
        "\n",
        "It's important to remember that these scores are only heuristics (it cannot be proven that the best score gaurantees the best model) which is often the case with unsupervised learning. The scores are only a method of getting to the best solution quicker, and the most important performance evaluation for KMeans and clustering in general is how well it is solving your problem.\n",
        "\n",
        "In our case we would evaluate our model by deciding if the customer segments it generates are really discernable groups with different needs that we can meet. This decision would likely be based off of whether or not the profit of our company was sufficiently increased following the deployment of our model."
      ]
    },
    {
      "cell_type": "markdown",
      "metadata": {
        "id": "vTs8hgiHbKle"
      },
      "source": [
        "Now that our model is trained on our data, let's analyze the results. We'll try visualizing the segments which our model has determined by plotting the customers' spending scores and annual incomes."
      ]
    },
    {
      "cell_type": "code",
      "metadata": {
        "id": "vpzSY2AHmQgE"
      },
      "source": [
        "# Create a new column containing each customer's assigned segment\n",
        "customers['category'] = kmeans.fit_predict(customers)\n",
        "# Get the segments labels and sort them for easier visual processing in the plot\n",
        "segments = customers['category'].unique()\n",
        "segments.sort()\n",
        "\n",
        "segments_fig = figure(title='Customer Segments | Annual Income and Spending Score',\n",
        "                    x_axis_label='Annual Income', y_axis_label='Spending Score')\n",
        "palette = Colorblind[len(segments)]\n",
        "\n",
        "# Gather x and y data\n",
        "income = customers['annual_income']\n",
        "spend = customers['spending_score']\n",
        "\n",
        "for i, segment in enumerate(segments):\n",
        "  # Get the positions of the customers in this segment\n",
        "  indices = customers['category'] == segment\n",
        "  segments_fig.scatter(income[indices], spend[indices], color=palette[i], legend_label=('Segment ' + str(segment)))\n",
        "\n",
        "show(segments_fig)"
      ],
      "execution_count": null,
      "outputs": []
    },
    {
      "cell_type": "markdown",
      "metadata": {
        "id": "kxndW_cidc6v"
      },
      "source": [
        "From our plot we can see that our model has segmented our customers fairly well by income and spending. The lack of separation between categories 2 and 4 in the center is likely an area for improvement, however it is worth noting that this plot does not take into account age.\n",
        "\n",
        "At this point our model is trained, however all we have are numbered clusters with no indication of meaning, so now it is up to us to interpret the results. In a real world customer segmentation scenario it would likely be something like a marketing team that would take the segments and try to identify each segment's characteristics, however us data scientists can also try our hand at it:\n",
        "\n",
        "- **Segments 2 and 4**: these are the average customers; they don't overspend or underspend, and they make neither lots nor little money.\n",
        "- **Segment 1**: these are the customers who, despite a low income, spend above average amounts of money. This could indicate a segment of impulse buyers.\n",
        "- **Segment 3**: these are the customers who make and spend lots of money. This could indicate a segment of customers who are partial to luxury goods and have the means to buy them.\n",
        "- **Segment 5**: these are the customers with low incomes and spending. A customer within this segment is likely to be a conservative buyer who will only go for the essentials.\n",
        "- **Segment 0**: these are the customers who spend little despite a high income. These are likely conservative buyers, however they may be inclined to splurge occasionally as they have the means.\n",
        "\n",
        "Now using our newly acquired segments our company can intelligently market to different types of customers and hopefully increase profits!"
      ]
    },
    {
      "cell_type": "markdown",
      "metadata": {
        "id": "17I_pFsxGq4v"
      },
      "source": [
        "**Challenge**: Try plotting age against either annual income or spend score using the same clusters as before. Try to interpret the plot."
      ]
    },
    {
      "cell_type": "markdown",
      "metadata": {
        "id": "1CNcBw8B_RyM"
      },
      "source": [
        "# Challenge\n",
        "\n",
        "Try to determine how you would assign a new customer to one of the segments our model learned."
      ]
    },
    {
      "cell_type": "markdown",
      "metadata": {
        "id": "xDw2Ycci_-MI"
      },
      "source": [
        "# Resources\n",
        "- [SKLearn K-means Guide](https://scikit-learn.org/stable/modules/clustering.html#k-means)\n",
        "- [Tutorial on K-means with SKLearn](https://towardsdatascience.com/k-means-clustering-with-scikit-learn-6b47a369a83c)\n",
        "- [Another tutorial](https://towardsdatascience.com/k-means-clustering-algorithm-applications-evaluation-methods-and-drawbacks-aa03e644b48a)\n",
        "- [Andrew Ng Lecture Notes](https://www.coursera.org/learn/machine-learning/resources/kGWsY) (you may have to sign up for the course to view these)\n",
        "- [Drawbacks of K-Means](https://stats.stackexchange.com/questions/133656/how-to-understand-the-drawbacks-of-k-means)\n",
        "- [K-Means customer segmentation in R](https://data-flair.training/blogs/r-data-science-project-customer-segmentation/)\n",
        "  - [Data](https://drive.google.com/file/d/19BOhwz52NUY3dg8XErVYglctpr5sjTy4/view)"
      ]
    }
  ]
}